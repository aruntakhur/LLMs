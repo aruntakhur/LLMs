{
  "cells": [
    {
      "cell_type": "markdown",
      "metadata": {
        "id": "view-in-github",
        "colab_type": "text"
      },
      "source": [
        "<a href=\"https://colab.research.google.com/github/aruntakhur/LLMs/blob/main/Fine_Tune_CoT_T5.ipynb\" target=\"_parent\"><img src=\"https://colab.research.google.com/assets/colab-badge.svg\" alt=\"Open In Colab\"/></a>"
      ]
    },
    {
      "cell_type": "markdown",
      "id": "fb2f16e3",
      "metadata": {
        "id": "fb2f16e3"
      },
      "source": [
        "# 🧠 Fine-Tune T5 with Chain-of-Thought (CoT) Reasoning\n",
        "This Colab notebook fine-tunes `flan-t5-small` on CoT-style data, following the paper [Large Language Models Are Reasoning Teachers (2022)](https://arxiv.org/abs/2212.10071)."
      ]
    },
    {
      "cell_type": "code",
      "execution_count": null,
      "id": "07fbf194",
      "metadata": {
        "id": "07fbf194"
      },
      "outputs": [],
      "source": [
        "\n",
        "# ✅ Install required libraries\n",
        "!pip install transformers datasets peft accelerate --quiet\n"
      ]
    },
    {
      "cell_type": "code",
      "execution_count": null,
      "id": "e53167da",
      "metadata": {
        "id": "e53167da"
      },
      "outputs": [],
      "source": [
        "\n",
        "# ✅ Import libraries\n",
        "from transformers import AutoTokenizer, AutoModelForSeq2SeqLM, Trainer, TrainingArguments\n",
        "from datasets import load_dataset\n",
        "from peft import LoraConfig, get_peft_model\n"
      ]
    },
    {
      "cell_type": "code",
      "execution_count": null,
      "id": "4dc05a9c",
      "metadata": {
        "id": "4dc05a9c"
      },
      "outputs": [],
      "source": [
        "\n",
        "# ✅ Load tokenizer and model (Flan-T5)\n",
        "model_name = \"google/flan-t5-small\"\n",
        "tokenizer = AutoTokenizer.from_pretrained(model_name)\n",
        "model = AutoModelForSeq2SeqLM.from_pretrained(model_name)\n"
      ]
    },
    {
      "cell_type": "code",
      "execution_count": null,
      "id": "7e4170d9",
      "metadata": {
        "id": "7e4170d9"
      },
      "outputs": [],
      "source": [
        "\n",
        "# ✅ Apply LoRA configuration\n",
        "peft_config = LoraConfig(\n",
        "    r=8,\n",
        "    lora_alpha=32,\n",
        "    target_modules=[\"q\", \"v\"],\n",
        "    lora_dropout=0.05,\n",
        "    bias=\"none\",\n",
        "    task_type=\"SEQ_2_SEQ_LM\"\n",
        ")\n",
        "model = get_peft_model(model, peft_config)\n"
      ]
    },
    {
      "cell_type": "code",
      "execution_count": null,
      "id": "13845ca0",
      "metadata": {
        "id": "13845ca0"
      },
      "outputs": [],
      "source": [
        "from pathlib import Path\n",
        "# ✅ Sample CoT-style training data (You can expand this)\n",
        "import json\n",
        "Path(\"data\").mkdir(exist_ok=True)\n",
        "sample_data = [\n",
        "    {\n",
        "        \"input\": \"Q: If a train travels at 60 km/h for 2 hours, how far does it go?\\nA: Let's think step by step.\",\n",
        "        \"target\": \"The train travels at 60 km/h. In 2 hours, it will travel 60 × 2 = 120 km. Therefore, the answer is 120 km.\"\n",
        "    },\n",
        "    {\n",
        "        \"input\": \"Q: What is 15 + 27?\\nA: Let's think step by step.\",\n",
        "        \"target\": \"15 + 27 = 42. Therefore, the answer is 42.\"\n",
        "    }\n",
        "]\n",
        "with open(\"data/finetune_cot_train.json\", \"w\") as f:\n",
        "    json.dump(sample_data, f)\n"
      ]
    },
    {
      "cell_type": "code",
      "execution_count": null,
      "id": "cca8ca1b",
      "metadata": {
        "id": "cca8ca1b"
      },
      "outputs": [],
      "source": [
        "import json\n",
        "from datasets import Dataset\n",
        "\n",
        "# Load the JSON file manually\n",
        "with open(\"data/finetune_cot_train.json\", \"r\") as f:\n",
        "    data = json.load(f)\n",
        "\n",
        "# Convert to Hugging Face Dataset\n",
        "train_ds = Dataset.from_list(data)\n"
      ]
    },
    {
      "cell_type": "code",
      "execution_count": null,
      "id": "aa9594eb",
      "metadata": {
        "colab": {
          "base_uri": "https://localhost:8080/",
          "height": 49,
          "referenced_widgets": [
            "22347298d9764c6eabef460cfc9366c0",
            "3d0646464684478eb6b3c37eda52b16e",
            "ca8bbe500ff74b248928bd3d2f909541",
            "3bbda753a1064c52b24923bab42df072",
            "8be73fb24065486893f7f204d26f9999",
            "affd4c3a507043d39db0a8c91c769c4f",
            "f4dfe63ce00744bf83b58ef9a9e29e28",
            "99a354ebd87d4315962ee490492c4868",
            "43f64280c1c24d79985770cef7cd0434",
            "ec65a15c7a5b4679a4e2adec83fd1d44",
            "1cafdb3ce0c54b57aab983f564649c66"
          ]
        },
        "id": "aa9594eb",
        "outputId": "2b336c18-671c-4c1c-a535-0f982a634323"
      },
      "outputs": [
        {
          "output_type": "display_data",
          "data": {
            "text/plain": [
              "Map:   0%|          | 0/2 [00:00<?, ? examples/s]"
            ],
            "application/vnd.jupyter.widget-view+json": {
              "version_major": 2,
              "version_minor": 0,
              "model_id": "22347298d9764c6eabef460cfc9366c0"
            }
          },
          "metadata": {}
        }
      ],
      "source": [
        "\n",
        "# ✅ Tokenize the dataset\n",
        "def tokenize(batch):\n",
        "    input_encodings = tokenizer(batch[\"input\"], truncation=True, padding=\"max_length\", max_length=128)\n",
        "    target_encodings = tokenizer(batch[\"target\"], truncation=True, padding=\"max_length\", max_length=128)\n",
        "    input_encodings[\"labels\"] = target_encodings[\"input_ids\"]\n",
        "    return input_encodings\n",
        "\n",
        "train_ds = train_ds.map(tokenize, batched=True)\n"
      ]
    },
    {
      "cell_type": "code",
      "execution_count": null,
      "id": "8d877505",
      "metadata": {
        "id": "8d877505"
      },
      "outputs": [],
      "source": [
        "\n",
        "# ✅ Training configuration\n",
        "training_args = TrainingArguments(\n",
        "    output_dir=\"./cot-t5-small\",\n",
        "    per_device_train_batch_size=4,\n",
        "    num_train_epochs=3,\n",
        "    logging_steps=5,\n",
        "    save_steps=20,\n",
        "    save_total_limit=2,\n",
        "    fp16=True,\n",
        "    report_to=\"none\"\n",
        ")\n",
        "\n",
        "trainer = Trainer(\n",
        "    model=model,\n",
        "    args=training_args,\n",
        "    train_dataset=train_ds,\n",
        "    tokenizer=tokenizer\n",
        ")\n",
        "\n",
        "trainer.train()\n"
      ]
    },
    {
      "cell_type": "code",
      "execution_count": null,
      "id": "ad8dd8e0",
      "metadata": {
        "id": "ad8dd8e0"
      },
      "outputs": [],
      "source": [
        "\n",
        "# ✅ Inference (test on new question)\n",
        "input_text = \"Q: If you have 10 candies and eat 4, how many are left?\\nA: Let's think step by step.\"\n",
        "inputs = tokenizer(input_text, return_tensors=\"pt\").to(model.device)\n",
        "\n",
        "output = model.generate(**inputs, max_length=100)\n",
        "print(tokenizer.decode(output[0], skip_special_tokens=True))\n"
      ]
    }
  ],
  "metadata": {
    "colab": {
      "provenance": [],
      "include_colab_link": true
    },
    "language_info": {
      "name": "python"
    },
    "kernelspec": {
      "name": "python3",
      "display_name": "Python 3"
    },
    "widgets": {
      "application/vnd.jupyter.widget-state+json": {
        "22347298d9764c6eabef460cfc9366c0": {
          "model_module": "@jupyter-widgets/controls",
          "model_name": "HBoxModel",
          "model_module_version": "1.5.0",
          "state": {
            "_dom_classes": [],
            "_model_module": "@jupyter-widgets/controls",
            "_model_module_version": "1.5.0",
            "_model_name": "HBoxModel",
            "_view_count": null,
            "_view_module": "@jupyter-widgets/controls",
            "_view_module_version": "1.5.0",
            "_view_name": "HBoxView",
            "box_style": "",
            "children": [
              "IPY_MODEL_3d0646464684478eb6b3c37eda52b16e",
              "IPY_MODEL_ca8bbe500ff74b248928bd3d2f909541",
              "IPY_MODEL_3bbda753a1064c52b24923bab42df072"
            ],
            "layout": "IPY_MODEL_8be73fb24065486893f7f204d26f9999"
          }
        },
        "3d0646464684478eb6b3c37eda52b16e": {
          "model_module": "@jupyter-widgets/controls",
          "model_name": "HTMLModel",
          "model_module_version": "1.5.0",
          "state": {
            "_dom_classes": [],
            "_model_module": "@jupyter-widgets/controls",
            "_model_module_version": "1.5.0",
            "_model_name": "HTMLModel",
            "_view_count": null,
            "_view_module": "@jupyter-widgets/controls",
            "_view_module_version": "1.5.0",
            "_view_name": "HTMLView",
            "description": "",
            "description_tooltip": null,
            "layout": "IPY_MODEL_affd4c3a507043d39db0a8c91c769c4f",
            "placeholder": "​",
            "style": "IPY_MODEL_f4dfe63ce00744bf83b58ef9a9e29e28",
            "value": "Map: 100%"
          }
        },
        "ca8bbe500ff74b248928bd3d2f909541": {
          "model_module": "@jupyter-widgets/controls",
          "model_name": "FloatProgressModel",
          "model_module_version": "1.5.0",
          "state": {
            "_dom_classes": [],
            "_model_module": "@jupyter-widgets/controls",
            "_model_module_version": "1.5.0",
            "_model_name": "FloatProgressModel",
            "_view_count": null,
            "_view_module": "@jupyter-widgets/controls",
            "_view_module_version": "1.5.0",
            "_view_name": "ProgressView",
            "bar_style": "success",
            "description": "",
            "description_tooltip": null,
            "layout": "IPY_MODEL_99a354ebd87d4315962ee490492c4868",
            "max": 2,
            "min": 0,
            "orientation": "horizontal",
            "style": "IPY_MODEL_43f64280c1c24d79985770cef7cd0434",
            "value": 2
          }
        },
        "3bbda753a1064c52b24923bab42df072": {
          "model_module": "@jupyter-widgets/controls",
          "model_name": "HTMLModel",
          "model_module_version": "1.5.0",
          "state": {
            "_dom_classes": [],
            "_model_module": "@jupyter-widgets/controls",
            "_model_module_version": "1.5.0",
            "_model_name": "HTMLModel",
            "_view_count": null,
            "_view_module": "@jupyter-widgets/controls",
            "_view_module_version": "1.5.0",
            "_view_name": "HTMLView",
            "description": "",
            "description_tooltip": null,
            "layout": "IPY_MODEL_ec65a15c7a5b4679a4e2adec83fd1d44",
            "placeholder": "​",
            "style": "IPY_MODEL_1cafdb3ce0c54b57aab983f564649c66",
            "value": " 2/2 [00:00&lt;00:00, 21.25 examples/s]"
          }
        },
        "8be73fb24065486893f7f204d26f9999": {
          "model_module": "@jupyter-widgets/base",
          "model_name": "LayoutModel",
          "model_module_version": "1.2.0",
          "state": {
            "_model_module": "@jupyter-widgets/base",
            "_model_module_version": "1.2.0",
            "_model_name": "LayoutModel",
            "_view_count": null,
            "_view_module": "@jupyter-widgets/base",
            "_view_module_version": "1.2.0",
            "_view_name": "LayoutView",
            "align_content": null,
            "align_items": null,
            "align_self": null,
            "border": null,
            "bottom": null,
            "display": null,
            "flex": null,
            "flex_flow": null,
            "grid_area": null,
            "grid_auto_columns": null,
            "grid_auto_flow": null,
            "grid_auto_rows": null,
            "grid_column": null,
            "grid_gap": null,
            "grid_row": null,
            "grid_template_areas": null,
            "grid_template_columns": null,
            "grid_template_rows": null,
            "height": null,
            "justify_content": null,
            "justify_items": null,
            "left": null,
            "margin": null,
            "max_height": null,
            "max_width": null,
            "min_height": null,
            "min_width": null,
            "object_fit": null,
            "object_position": null,
            "order": null,
            "overflow": null,
            "overflow_x": null,
            "overflow_y": null,
            "padding": null,
            "right": null,
            "top": null,
            "visibility": null,
            "width": null
          }
        },
        "affd4c3a507043d39db0a8c91c769c4f": {
          "model_module": "@jupyter-widgets/base",
          "model_name": "LayoutModel",
          "model_module_version": "1.2.0",
          "state": {
            "_model_module": "@jupyter-widgets/base",
            "_model_module_version": "1.2.0",
            "_model_name": "LayoutModel",
            "_view_count": null,
            "_view_module": "@jupyter-widgets/base",
            "_view_module_version": "1.2.0",
            "_view_name": "LayoutView",
            "align_content": null,
            "align_items": null,
            "align_self": null,
            "border": null,
            "bottom": null,
            "display": null,
            "flex": null,
            "flex_flow": null,
            "grid_area": null,
            "grid_auto_columns": null,
            "grid_auto_flow": null,
            "grid_auto_rows": null,
            "grid_column": null,
            "grid_gap": null,
            "grid_row": null,
            "grid_template_areas": null,
            "grid_template_columns": null,
            "grid_template_rows": null,
            "height": null,
            "justify_content": null,
            "justify_items": null,
            "left": null,
            "margin": null,
            "max_height": null,
            "max_width": null,
            "min_height": null,
            "min_width": null,
            "object_fit": null,
            "object_position": null,
            "order": null,
            "overflow": null,
            "overflow_x": null,
            "overflow_y": null,
            "padding": null,
            "right": null,
            "top": null,
            "visibility": null,
            "width": null
          }
        },
        "f4dfe63ce00744bf83b58ef9a9e29e28": {
          "model_module": "@jupyter-widgets/controls",
          "model_name": "DescriptionStyleModel",
          "model_module_version": "1.5.0",
          "state": {
            "_model_module": "@jupyter-widgets/controls",
            "_model_module_version": "1.5.0",
            "_model_name": "DescriptionStyleModel",
            "_view_count": null,
            "_view_module": "@jupyter-widgets/base",
            "_view_module_version": "1.2.0",
            "_view_name": "StyleView",
            "description_width": ""
          }
        },
        "99a354ebd87d4315962ee490492c4868": {
          "model_module": "@jupyter-widgets/base",
          "model_name": "LayoutModel",
          "model_module_version": "1.2.0",
          "state": {
            "_model_module": "@jupyter-widgets/base",
            "_model_module_version": "1.2.0",
            "_model_name": "LayoutModel",
            "_view_count": null,
            "_view_module": "@jupyter-widgets/base",
            "_view_module_version": "1.2.0",
            "_view_name": "LayoutView",
            "align_content": null,
            "align_items": null,
            "align_self": null,
            "border": null,
            "bottom": null,
            "display": null,
            "flex": null,
            "flex_flow": null,
            "grid_area": null,
            "grid_auto_columns": null,
            "grid_auto_flow": null,
            "grid_auto_rows": null,
            "grid_column": null,
            "grid_gap": null,
            "grid_row": null,
            "grid_template_areas": null,
            "grid_template_columns": null,
            "grid_template_rows": null,
            "height": null,
            "justify_content": null,
            "justify_items": null,
            "left": null,
            "margin": null,
            "max_height": null,
            "max_width": null,
            "min_height": null,
            "min_width": null,
            "object_fit": null,
            "object_position": null,
            "order": null,
            "overflow": null,
            "overflow_x": null,
            "overflow_y": null,
            "padding": null,
            "right": null,
            "top": null,
            "visibility": null,
            "width": null
          }
        },
        "43f64280c1c24d79985770cef7cd0434": {
          "model_module": "@jupyter-widgets/controls",
          "model_name": "ProgressStyleModel",
          "model_module_version": "1.5.0",
          "state": {
            "_model_module": "@jupyter-widgets/controls",
            "_model_module_version": "1.5.0",
            "_model_name": "ProgressStyleModel",
            "_view_count": null,
            "_view_module": "@jupyter-widgets/base",
            "_view_module_version": "1.2.0",
            "_view_name": "StyleView",
            "bar_color": null,
            "description_width": ""
          }
        },
        "ec65a15c7a5b4679a4e2adec83fd1d44": {
          "model_module": "@jupyter-widgets/base",
          "model_name": "LayoutModel",
          "model_module_version": "1.2.0",
          "state": {
            "_model_module": "@jupyter-widgets/base",
            "_model_module_version": "1.2.0",
            "_model_name": "LayoutModel",
            "_view_count": null,
            "_view_module": "@jupyter-widgets/base",
            "_view_module_version": "1.2.0",
            "_view_name": "LayoutView",
            "align_content": null,
            "align_items": null,
            "align_self": null,
            "border": null,
            "bottom": null,
            "display": null,
            "flex": null,
            "flex_flow": null,
            "grid_area": null,
            "grid_auto_columns": null,
            "grid_auto_flow": null,
            "grid_auto_rows": null,
            "grid_column": null,
            "grid_gap": null,
            "grid_row": null,
            "grid_template_areas": null,
            "grid_template_columns": null,
            "grid_template_rows": null,
            "height": null,
            "justify_content": null,
            "justify_items": null,
            "left": null,
            "margin": null,
            "max_height": null,
            "max_width": null,
            "min_height": null,
            "min_width": null,
            "object_fit": null,
            "object_position": null,
            "order": null,
            "overflow": null,
            "overflow_x": null,
            "overflow_y": null,
            "padding": null,
            "right": null,
            "top": null,
            "visibility": null,
            "width": null
          }
        },
        "1cafdb3ce0c54b57aab983f564649c66": {
          "model_module": "@jupyter-widgets/controls",
          "model_name": "DescriptionStyleModel",
          "model_module_version": "1.5.0",
          "state": {
            "_model_module": "@jupyter-widgets/controls",
            "_model_module_version": "1.5.0",
            "_model_name": "DescriptionStyleModel",
            "_view_count": null,
            "_view_module": "@jupyter-widgets/base",
            "_view_module_version": "1.2.0",
            "_view_name": "StyleView",
            "description_width": ""
          }
        }
      }
    }
  },
  "nbformat": 4,
  "nbformat_minor": 5
}