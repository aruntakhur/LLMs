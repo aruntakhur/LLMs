{
  "cells": [
    {
      "cell_type": "markdown",
      "metadata": {
        "id": "view-in-github",
        "colab_type": "text"
      },
      "source": [
        "<a href=\"https://colab.research.google.com/github/aruntakhur/LLMs/blob/main/GPT_From_Scratch.ipynb\" target=\"_parent\"><img src=\"https://colab.research.google.com/assets/colab-badge.svg\" alt=\"Open In Colab\"/></a>"
      ]
    },
    {
      "cell_type": "code",
      "execution_count": 4,
      "metadata": {
        "colab": {
          "base_uri": "https://localhost:8080/"
        },
        "id": "B6SDXg9ijVcK",
        "outputId": "17349892-0bef-479a-a7f4-3dafd2b173a1"
      },
      "outputs": [
        {
          "output_type": "stream",
          "name": "stdout",
          "text": [
            "--2024-04-18 08:37:43--  https://raw.githubusercontent.com/karpathy/char-rnn/master/data/tinyshakespeare/input.txt\n",
            "Resolving raw.githubusercontent.com (raw.githubusercontent.com)... 185.199.110.133, 185.199.111.133, 185.199.109.133, ...\n",
            "Connecting to raw.githubusercontent.com (raw.githubusercontent.com)|185.199.110.133|:443... connected.\n",
            "HTTP request sent, awaiting response... 200 OK\n",
            "Length: 1115394 (1.1M) [text/plain]\n",
            "Saving to: ‘input.txt’\n",
            "\n",
            "input.txt           100%[===================>]   1.06M  --.-KB/s    in 0.05s   \n",
            "\n",
            "2024-04-18 08:37:43 (23.1 MB/s) - ‘input.txt’ saved [1115394/1115394]\n",
            "\n"
          ]
        }
      ],
      "source": [
        "!wget https://raw.githubusercontent.com/karpathy/char-rnn/master/data/tinyshakespeare/input.txt"
      ]
    },
    {
      "cell_type": "code",
      "execution_count": null,
      "metadata": {
        "id": "hvIdXjTljpQQ"
      },
      "outputs": [],
      "source": [
        "import torch\n",
        "with open(\"input.txt\",\"r\",encoding = \"utf-8\") as f:\n",
        "  text = f.read()\n",
        "f.close()\n",
        "print(text)\n",
        "device = 'cuda' if torch.cuda.is_available() else 'cpu'"
      ]
    },
    {
      "cell_type": "code",
      "execution_count": 6,
      "metadata": {
        "colab": {
          "base_uri": "https://localhost:8080/",
          "height": 36
        },
        "id": "IDq4Y6PfPExn",
        "outputId": "8a7d6c78-ef54-4627-a21f-3e51d9c2f0db"
      },
      "outputs": [
        {
          "output_type": "execute_result",
          "data": {
            "text/plain": [
              "'cuda'"
            ],
            "application/vnd.google.colaboratory.intrinsic+json": {
              "type": "string"
            }
          },
          "metadata": {},
          "execution_count": 6
        }
      ],
      "source": [
        "device"
      ]
    },
    {
      "cell_type": "code",
      "execution_count": 7,
      "metadata": {
        "colab": {
          "base_uri": "https://localhost:8080/"
        },
        "id": "wrTMp-cCmw56",
        "outputId": "a4abf4be-b932-434d-f03c-dadbe23d6dbf"
      },
      "outputs": [
        {
          "output_type": "stream",
          "name": "stdout",
          "text": [
            "length of the text  1115394\n"
          ]
        }
      ],
      "source": [
        "print(\"length of the text \", len(text))"
      ]
    },
    {
      "cell_type": "code",
      "execution_count": 8,
      "metadata": {
        "colab": {
          "base_uri": "https://localhost:8080/"
        },
        "id": "PYuqdXT-nAMw",
        "outputId": "79f63bbb-b859-47bc-af31-fbada3d58bd6"
      },
      "outputs": [
        {
          "output_type": "stream",
          "name": "stdout",
          "text": [
            "first 1000 characters are  First Citizen:\n",
            "Before we proceed any further, hear me speak.\n",
            "\n",
            "All:\n",
            "Speak, speak.\n",
            "\n",
            "First Citizen:\n",
            "You are all resolved rather to die than to famish?\n",
            "\n",
            "All:\n",
            "Resolved. resolved.\n",
            "\n",
            "First Citizen:\n",
            "First, you know Caius Marcius is chief enemy to the people.\n",
            "\n",
            "All:\n",
            "We know't, we know't.\n",
            "\n",
            "First Citizen:\n",
            "Let us kill him, and we'll have corn at our own price.\n",
            "Is't a verdict?\n",
            "\n",
            "All:\n",
            "No more talking on't; let it be done: away, away!\n",
            "\n",
            "Second Citizen:\n",
            "One word, good citizens.\n",
            "\n",
            "First Citizen:\n",
            "We are accounted poor citizens, the patricians good.\n",
            "What authority surfeits on would relieve us: if they\n",
            "would yield us but the superfluity, while it were\n",
            "wholesome, we might guess they relieved us humanely;\n",
            "but they think we are too dear: the leanness that\n",
            "afflicts us, the object of our misery, is as an\n",
            "inventory to particularise their abundance; our\n",
            "sufferance is a gain to them Let us revenge this with\n",
            "our pikes, ere we become rakes: for the gods know I\n",
            "speak this in hunger for bread, not in thirst for revenge.\n",
            "\n",
            "\n"
          ]
        }
      ],
      "source": [
        "print(\"first 1000 characters are \",text[:1000])"
      ]
    },
    {
      "cell_type": "code",
      "execution_count": 9,
      "metadata": {
        "colab": {
          "base_uri": "https://localhost:8080/"
        },
        "id": "a2TEq41CnLT4",
        "outputId": "7d8759b5-4a41-4919-c2ae-0255847db335"
      },
      "outputs": [
        {
          "output_type": "stream",
          "name": "stdout",
          "text": [
            "\n",
            " !$&',-.3:;?ABCDEFGHIJKLMNOPQRSTUVWXYZabcdefghijklmnopqrstuvwxyz 65\n"
          ]
        }
      ],
      "source": [
        "chars = sorted(list(set(text)))\n",
        "vocab_size = len(chars)\n",
        "print(\"\".join(chars), vocab_size)\n"
      ]
    },
    {
      "cell_type": "code",
      "execution_count": 10,
      "metadata": {
        "id": "dugLNGqmo331"
      },
      "outputs": [],
      "source": [
        "stoi = {ch:i for i,ch in enumerate(chars)}\n",
        "itos = {i:ch for i,ch in enumerate(chars)}\n",
        "encode = lambda s: [stoi[ch] for ch in s]\n",
        "decode = lambda l: \"\".join([itos[i] for i in l])\n",
        "\n",
        "e_txt = encode(text)\n",
        "\n"
      ]
    },
    {
      "cell_type": "code",
      "execution_count": 11,
      "metadata": {
        "id": "xBW-uAnpuDuU"
      },
      "outputs": [],
      "source": [
        "import torch\n",
        "data = torch.tensor(encode(text), dtype = torch.long)"
      ]
    },
    {
      "cell_type": "code",
      "execution_count": 12,
      "metadata": {
        "colab": {
          "base_uri": "https://localhost:8080/"
        },
        "id": "N7vNtsrGwxsa",
        "outputId": "08d22dac-7cbe-4e18-da2d-2578dfb3b6d2"
      },
      "outputs": [
        {
          "output_type": "stream",
          "name": "stdout",
          "text": [
            "torch.Size([1115394]) torch.int64\n",
            "tensor([18, 47, 56, 57, 58,  1, 15, 47, 58, 47, 64, 43, 52, 10,  0, 14, 43, 44,\n",
            "        53, 56, 43,  1, 61, 43,  1, 54, 56, 53, 41, 43, 43, 42,  1, 39, 52, 63,\n",
            "         1, 44, 59, 56, 58, 46, 43, 56,  6,  1, 46, 43, 39, 56,  1, 51, 43,  1,\n",
            "        57, 54, 43, 39, 49,  8,  0,  0, 13, 50, 50, 10,  0, 31, 54, 43, 39, 49,\n",
            "         6,  1, 57, 54, 43, 39, 49,  8,  0,  0, 18, 47, 56, 57, 58,  1, 15, 47,\n",
            "        58, 47, 64, 43, 52, 10,  0, 37, 53, 59,  1, 39, 56, 43,  1, 39, 50, 50,\n",
            "         1, 56, 43, 57, 53, 50, 60, 43, 42,  1, 56, 39, 58, 46, 43, 56,  1, 58,\n",
            "        53,  1, 42, 47, 43,  1, 58, 46, 39, 52,  1, 58, 53,  1, 44, 39, 51, 47,\n",
            "        57, 46, 12,  0,  0, 13, 50, 50, 10,  0, 30, 43, 57, 53, 50, 60, 43, 42,\n",
            "         8,  1, 56, 43, 57, 53, 50, 60, 43, 42,  8,  0,  0, 18, 47, 56, 57, 58,\n",
            "         1, 15, 47, 58, 47, 64, 43, 52, 10,  0, 18, 47, 56, 57, 58,  6,  1, 63,\n",
            "        53, 59,  1, 49, 52, 53, 61,  1, 15, 39, 47, 59, 57,  1, 25, 39, 56, 41,\n",
            "        47, 59, 57,  1, 47, 57,  1, 41, 46, 47, 43, 44,  1, 43, 52, 43, 51, 63,\n",
            "         1, 58, 53,  1, 58, 46, 43,  1, 54, 43, 53, 54, 50, 43,  8,  0,  0, 13,\n",
            "        50, 50, 10,  0, 35, 43,  1, 49, 52, 53, 61,  5, 58,  6,  1, 61, 43,  1,\n",
            "        49, 52, 53, 61,  5, 58,  8,  0,  0, 18, 47, 56, 57, 58,  1, 15, 47, 58,\n",
            "        47, 64, 43, 52, 10,  0, 24, 43, 58,  1, 59, 57,  1, 49, 47, 50, 50,  1,\n",
            "        46, 47, 51,  6,  1, 39, 52, 42,  1, 61, 43,  5, 50, 50,  1, 46, 39, 60,\n",
            "        43,  1, 41, 53, 56, 52,  1, 39, 58,  1, 53, 59, 56,  1, 53, 61, 52,  1,\n",
            "        54, 56, 47, 41, 43,  8,  0, 21, 57,  5, 58,  1, 39,  1, 60, 43, 56, 42,\n",
            "        47, 41, 58, 12,  0,  0, 13, 50, 50, 10,  0, 26, 53,  1, 51, 53, 56, 43,\n",
            "         1, 58, 39, 50, 49, 47, 52, 45,  1, 53, 52,  5, 58, 11,  1, 50, 43, 58,\n",
            "         1, 47, 58,  1, 40, 43,  1, 42, 53, 52, 43, 10,  1, 39, 61, 39, 63,  6,\n",
            "         1, 39, 61, 39, 63,  2,  0,  0, 31, 43, 41, 53, 52, 42,  1, 15, 47, 58,\n",
            "        47, 64, 43, 52, 10,  0, 27, 52, 43,  1, 61, 53, 56, 42,  6,  1, 45, 53,\n",
            "        53, 42,  1, 41, 47, 58, 47, 64, 43, 52, 57,  8,  0,  0, 18, 47, 56, 57,\n",
            "        58,  1, 15, 47, 58, 47, 64, 43, 52, 10,  0, 35, 43,  1, 39, 56, 43,  1,\n",
            "        39, 41, 41, 53, 59, 52, 58, 43, 42,  1, 54, 53, 53, 56,  1, 41, 47, 58,\n",
            "        47, 64, 43, 52, 57,  6,  1, 58, 46, 43,  1, 54, 39, 58, 56, 47, 41, 47,\n",
            "        39, 52, 57,  1, 45, 53, 53, 42,  8,  0, 35, 46, 39, 58,  1, 39, 59, 58,\n",
            "        46, 53, 56, 47, 58, 63,  1, 57, 59, 56, 44, 43, 47, 58, 57,  1, 53, 52,\n",
            "         1, 61, 53, 59, 50, 42,  1, 56, 43, 50, 47, 43, 60, 43,  1, 59, 57, 10,\n",
            "         1, 47, 44,  1, 58, 46, 43, 63,  0, 61, 53, 59, 50, 42,  1, 63, 47, 43,\n",
            "        50, 42,  1, 59, 57,  1, 40, 59, 58,  1, 58, 46, 43,  1, 57, 59, 54, 43,\n",
            "        56, 44, 50, 59, 47, 58, 63,  6,  1, 61, 46, 47, 50, 43,  1, 47, 58,  1,\n",
            "        61, 43, 56, 43,  0, 61, 46, 53, 50, 43, 57, 53, 51, 43,  6,  1, 61, 43,\n",
            "         1, 51, 47, 45, 46, 58,  1, 45, 59, 43, 57, 57,  1, 58, 46, 43, 63,  1,\n",
            "        56, 43, 50, 47, 43, 60, 43, 42,  1, 59, 57,  1, 46, 59, 51, 39, 52, 43,\n",
            "        50, 63, 11,  0, 40, 59, 58,  1, 58, 46, 43, 63,  1, 58, 46, 47, 52, 49,\n",
            "         1, 61, 43,  1, 39, 56, 43,  1, 58, 53, 53,  1, 42, 43, 39, 56, 10,  1,\n",
            "        58, 46, 43,  1, 50, 43, 39, 52, 52, 43, 57, 57,  1, 58, 46, 39, 58,  0,\n",
            "        39, 44, 44, 50, 47, 41, 58, 57,  1, 59, 57,  6,  1, 58, 46, 43,  1, 53,\n",
            "        40, 48, 43, 41, 58,  1, 53, 44,  1, 53, 59, 56,  1, 51, 47, 57, 43, 56,\n",
            "        63,  6,  1, 47, 57,  1, 39, 57,  1, 39, 52,  0, 47, 52, 60, 43, 52, 58,\n",
            "        53, 56, 63,  1, 58, 53,  1, 54, 39, 56, 58, 47, 41, 59, 50, 39, 56, 47,\n",
            "        57, 43,  1, 58, 46, 43, 47, 56,  1, 39, 40, 59, 52, 42, 39, 52, 41, 43,\n",
            "        11,  1, 53, 59, 56,  0, 57, 59, 44, 44, 43, 56, 39, 52, 41, 43,  1, 47,\n",
            "        57,  1, 39,  1, 45, 39, 47, 52,  1, 58, 53,  1, 58, 46, 43, 51,  1, 24,\n",
            "        43, 58,  1, 59, 57,  1, 56, 43, 60, 43, 52, 45, 43,  1, 58, 46, 47, 57,\n",
            "         1, 61, 47, 58, 46,  0, 53, 59, 56,  1, 54, 47, 49, 43, 57,  6,  1, 43,\n",
            "        56, 43,  1, 61, 43,  1, 40, 43, 41, 53, 51, 43,  1, 56, 39, 49, 43, 57,\n",
            "        10,  1, 44, 53, 56,  1, 58, 46, 43,  1, 45, 53, 42, 57,  1, 49, 52, 53,\n",
            "        61,  1, 21,  0, 57, 54, 43, 39, 49,  1, 58, 46, 47, 57,  1, 47, 52,  1,\n",
            "        46, 59, 52, 45, 43, 56,  1, 44, 53, 56,  1, 40, 56, 43, 39, 42,  6,  1,\n",
            "        52, 53, 58,  1, 47, 52,  1, 58, 46, 47, 56, 57, 58,  1, 44, 53, 56,  1,\n",
            "        56, 43, 60, 43, 52, 45, 43,  8,  0,  0])\n"
          ]
        }
      ],
      "source": [
        "print(data.shape, data.dtype)\n",
        "print(data[:1000])"
      ]
    },
    {
      "cell_type": "code",
      "execution_count": 13,
      "metadata": {
        "colab": {
          "base_uri": "https://localhost:8080/"
        },
        "id": "8Hg66a2Tzri6",
        "outputId": "97c45cc7-9ff7-4671-884f-766c65b0f448"
      },
      "outputs": [
        {
          "output_type": "stream",
          "name": "stdout",
          "text": [
            "1003854 111540\n"
          ]
        }
      ],
      "source": [
        "n = int(0.9*len(data))\n",
        "train_data = data[:n]\n",
        "val_data  = data[n:]\n",
        "print(len(train_data), len(val_data))"
      ]
    },
    {
      "cell_type": "code",
      "execution_count": 14,
      "metadata": {
        "colab": {
          "base_uri": "https://localhost:8080/"
        },
        "id": "nokeAUtMdm29",
        "outputId": "4e430b1a-992f-471d-80dc-4090d097c449"
      },
      "outputs": [
        {
          "output_type": "execute_result",
          "data": {
            "text/plain": [
              "tensor([754611, 264867, 337346, 662238])"
            ]
          },
          "metadata": {},
          "execution_count": 14
        }
      ],
      "source": [
        "torch.randint(len(train_data)-8,(4,))"
      ]
    },
    {
      "cell_type": "code",
      "execution_count": 15,
      "metadata": {
        "colab": {
          "base_uri": "https://localhost:8080/"
        },
        "id": "b8V1wwUk09o3",
        "outputId": "cd14fa02-2c01-4d5f-a30a-6ea1a608a4bc"
      },
      "outputs": [
        {
          "output_type": "stream",
          "name": "stdout",
          "text": [
            " tensor([18, 47, 56, 57, 58,  1, 15, 47]) \n",
            " tensor([47, 56, 57, 58,  1, 15, 47, 58])\n",
            "Whent the input is tensor([18]); the target is 47\n",
            "Whent the input is tensor([18, 47]); the target is 56\n",
            "Whent the input is tensor([18, 47, 56]); the target is 57\n",
            "Whent the input is tensor([18, 47, 56, 57]); the target is 58\n",
            "Whent the input is tensor([18, 47, 56, 57, 58]); the target is 1\n",
            "Whent the input is tensor([18, 47, 56, 57, 58,  1]); the target is 15\n",
            "Whent the input is tensor([18, 47, 56, 57, 58,  1, 15]); the target is 47\n",
            "Whent the input is tensor([18, 47, 56, 57, 58,  1, 15, 47]); the target is 58\n"
          ]
        }
      ],
      "source": [
        "block_size = 8\n",
        "x = train_data[:block_size]\n",
        "y = train_data[1:block_size+1]\n",
        "print(\"\",x,\"\\n\",y)\n",
        "for t in range(block_size):\n",
        "  context = x[:t+1]\n",
        "  target = y[t]\n",
        "  print(f\"Whent the input is {context}; the target is {target}\")\n"
      ]
    },
    {
      "cell_type": "code",
      "execution_count": 16,
      "metadata": {
        "colab": {
          "base_uri": "https://localhost:8080/"
        },
        "id": "8u5PKfrB7TfI",
        "outputId": "e5cfdae0-3d2c-4c43-bf05-2ed3597b0533"
      },
      "outputs": [
        {
          "output_type": "stream",
          "name": "stdout",
          "text": [
            "inputs:\n",
            "torch.Size([4, 8])\n",
            "tensor([[24, 43, 58,  5, 57,  1, 46, 43],\n",
            "        [44, 53, 56,  1, 58, 46, 39, 58],\n",
            "        [52, 58,  1, 58, 46, 39, 58,  1],\n",
            "        [25, 17, 27, 10,  0, 21,  1, 54]], device='cuda:0')\n",
            "targets:\n",
            "torch.Size([4, 8])\n",
            "tensor([[43, 58,  5, 57,  1, 46, 43, 39],\n",
            "        [53, 56,  1, 58, 46, 39, 58,  1],\n",
            "        [58,  1, 58, 46, 39, 58,  1, 46],\n",
            "        [17, 27, 10,  0, 21,  1, 54, 39]], device='cuda:0')\n",
            "---\n",
            "tensor([24], device='cuda:0') tensor(43, device='cuda:0')\n",
            "tensor([24, 43], device='cuda:0') tensor(58, device='cuda:0')\n",
            "tensor([24, 43, 58], device='cuda:0') tensor(5, device='cuda:0')\n",
            "tensor([24, 43, 58,  5], device='cuda:0') tensor(57, device='cuda:0')\n",
            "tensor([24, 43, 58,  5, 57], device='cuda:0') tensor(1, device='cuda:0')\n",
            "tensor([24, 43, 58,  5, 57,  1], device='cuda:0') tensor(46, device='cuda:0')\n",
            "tensor([24, 43, 58,  5, 57,  1, 46], device='cuda:0') tensor(43, device='cuda:0')\n",
            "tensor([24, 43, 58,  5, 57,  1, 46, 43], device='cuda:0') tensor(39, device='cuda:0')\n",
            "tensor([44], device='cuda:0') tensor(53, device='cuda:0')\n",
            "tensor([44, 53], device='cuda:0') tensor(56, device='cuda:0')\n",
            "tensor([44, 53, 56], device='cuda:0') tensor(1, device='cuda:0')\n",
            "tensor([44, 53, 56,  1], device='cuda:0') tensor(58, device='cuda:0')\n",
            "tensor([44, 53, 56,  1, 58], device='cuda:0') tensor(46, device='cuda:0')\n",
            "tensor([44, 53, 56,  1, 58, 46], device='cuda:0') tensor(39, device='cuda:0')\n",
            "tensor([44, 53, 56,  1, 58, 46, 39], device='cuda:0') tensor(58, device='cuda:0')\n",
            "tensor([44, 53, 56,  1, 58, 46, 39, 58], device='cuda:0') tensor(1, device='cuda:0')\n",
            "tensor([52], device='cuda:0') tensor(58, device='cuda:0')\n",
            "tensor([52, 58], device='cuda:0') tensor(1, device='cuda:0')\n",
            "tensor([52, 58,  1], device='cuda:0') tensor(58, device='cuda:0')\n",
            "tensor([52, 58,  1, 58], device='cuda:0') tensor(46, device='cuda:0')\n",
            "tensor([52, 58,  1, 58, 46], device='cuda:0') tensor(39, device='cuda:0')\n",
            "tensor([52, 58,  1, 58, 46, 39], device='cuda:0') tensor(58, device='cuda:0')\n",
            "tensor([52, 58,  1, 58, 46, 39, 58], device='cuda:0') tensor(1, device='cuda:0')\n",
            "tensor([52, 58,  1, 58, 46, 39, 58,  1], device='cuda:0') tensor(46, device='cuda:0')\n",
            "tensor([25], device='cuda:0') tensor(17, device='cuda:0')\n",
            "tensor([25, 17], device='cuda:0') tensor(27, device='cuda:0')\n",
            "tensor([25, 17, 27], device='cuda:0') tensor(10, device='cuda:0')\n",
            "tensor([25, 17, 27, 10], device='cuda:0') tensor(0, device='cuda:0')\n",
            "tensor([25, 17, 27, 10,  0], device='cuda:0') tensor(21, device='cuda:0')\n",
            "tensor([25, 17, 27, 10,  0, 21], device='cuda:0') tensor(1, device='cuda:0')\n",
            "tensor([25, 17, 27, 10,  0, 21,  1], device='cuda:0') tensor(54, device='cuda:0')\n",
            "tensor([25, 17, 27, 10,  0, 21,  1, 54], device='cuda:0') tensor(39, device='cuda:0')\n"
          ]
        }
      ],
      "source": [
        "torch.manual_seed(1337)\n",
        "block_size = 8\n",
        "batch_size = 4\n",
        "def get_batch(split):\n",
        "  data = train_data if split == \"train\" else val_data\n",
        "  ix = torch.randint(len(data)-block_size,(batch_size,))\n",
        "  x = torch.stack([data[i:i+block_size] for i in ix])\n",
        "  y = torch.stack([data[i+1:i+block_size+1] for i in ix])\n",
        "  x,y = x.to(device), y.to(device)\n",
        "  return x,y\n",
        "xb, yb = get_batch('train')\n",
        "print(\"inputs:\")\n",
        "print(xb.shape)\n",
        "print(xb)\n",
        "print(\"targets:\")\n",
        "print(yb.shape)\n",
        "print(yb)\n",
        "\n",
        "print(\"---\")\n",
        "\n",
        "for b in range(batch_size):\n",
        "  for t in range(block_size):\n",
        "    context = xb[b,:t+1]\n",
        "    target = yb[b,t]\n",
        "    print(context,target)\n",
        "\n",
        "\n"
      ]
    },
    {
      "cell_type": "code",
      "execution_count": 17,
      "metadata": {
        "colab": {
          "base_uri": "https://localhost:8080/"
        },
        "id": "abHXfvArBhpD",
        "outputId": "d60ca79c-649e-4a9c-ed00-67e73d45bdc0"
      },
      "outputs": [
        {
          "output_type": "stream",
          "name": "stdout",
          "text": [
            "\n",
            "pYCXxfRkRZd\n",
            "wc'wfNfT;OLlTEeC K\n",
            "jxqPToTb?bXAUG:C-SGJO-33SM:C?YI3a\n",
            "hs:LVXJFhXeNuwqhObxZ.tSVrddXlaSZaNe\n"
          ]
        }
      ],
      "source": [
        "torch.manual_seed(1337)\n",
        "import torch.nn as nn\n",
        "from torch.nn import functional as F\n",
        "torch.manual_seed(1337)\n",
        "\n",
        "class BigramLanguageModel(nn.Module):\n",
        "  def __init__(self, vocab_size):\n",
        "    super().__init__()\n",
        "    self.embedding_lookup_table = nn.Embedding(vocab_size, vocab_size)\n",
        "\n",
        "  def forward(self,idx,targets=None):\n",
        "    logits = self.embedding_lookup_table(idx)\n",
        "    if targets == None:\n",
        "      loss = None\n",
        "    else:\n",
        "      B, T, C = logits.shape\n",
        "      logits = logits.view(B*T,C)\n",
        "      targets = targets.view(B*T)\n",
        "      loss = F.cross_entropy(logits,targets)\n",
        "    return logits, loss\n",
        "\n",
        "  def generate(self, idx, max_new_tokens):\n",
        "    for _ in range(max_new_tokens):\n",
        "      logits, loss = self(idx)\n",
        "      logits = logits[:,-1,:]\n",
        "      probs = F.softmax(logits, dim = -1)\n",
        "      idx_next = torch.multinomial(probs, num_samples = 1)\n",
        "      idx = torch.cat((idx, idx_next), dim = -1)\n",
        "    return idx\n",
        "\n",
        "model = BigramLanguageModel(vocab_size)\n",
        "m = model.to(device)\n",
        "# logits, loss = m(xb,yb)\n",
        "# print(xb.shape)\n",
        "# xb_new = m.generate(xb,5)\n",
        "# print(xb_new)\n",
        "\n",
        "start = torch.zeros((1,1), dtype = torch.long, device = device)\n",
        "para = m.generate(start,100)\n",
        "print(decode(para[0].tolist()))\n",
        "\n"
      ]
    },
    {
      "cell_type": "code",
      "execution_count": 18,
      "metadata": {
        "id": "cSSmjHs-ABBp"
      },
      "outputs": [],
      "source": [
        "optimizer = torch.optim.AdamW(m.parameters(), lr = 1e-3)"
      ]
    },
    {
      "cell_type": "code",
      "execution_count": 19,
      "metadata": {
        "id": "yeIPDlBsQrBs"
      },
      "outputs": [],
      "source": [
        "@torch.no_grad()\n",
        "def estimate_loss():\n",
        "  out = {}\n",
        "  model.eval()\n",
        "  for split in ['train','val']:\n",
        "    losses = torch.zeros(eval_iters)\n",
        "    for k in range(eval_iters):\n",
        "      X, Y = get_batch(split)\n",
        "      logits, loss = model(X,Y)\n",
        "      losses[k] = loss.item()\n",
        "    out[split] = losses.mean()\n",
        "    model.train()\n",
        "  return out\n"
      ]
    },
    {
      "cell_type": "code",
      "execution_count": 20,
      "metadata": {
        "colab": {
          "base_uri": "https://localhost:8080/"
        },
        "id": "PArCQlGtAsZe",
        "outputId": "117e877b-d350-4c23-999e-cd34c2967538"
      },
      "outputs": [
        {
          "output_type": "stream",
          "name": "stdout",
          "text": [
            "iter: 0, train loss: 4.7305, val loss: 4.7241\n",
            "iter: 300, train loss: 4.3818, val loss: 4.3896\n",
            "iter: 600, train loss: 4.0801, val loss: 4.0784\n",
            "iter: 900, train loss: 3.8066, val loss: 3.8117\n",
            "iter: 1200, train loss: 3.5844, val loss: 3.5850\n",
            "iter: 1500, train loss: 3.3757, val loss: 3.3829\n",
            "iter: 1800, train loss: 3.2182, val loss: 3.2218\n",
            "iter: 2100, train loss: 3.0817, val loss: 3.0810\n",
            "iter: 2400, train loss: 2.9663, val loss: 2.9739\n",
            "iter: 2700, train loss: 2.8809, val loss: 2.8800\n",
            "tensor(2.7940, device='cuda:0', grad_fn=<NllLossBackward0>)\n"
          ]
        }
      ],
      "source": [
        "batch_size = 32\n",
        "max_iters = 3000\n",
        "eval_interval = 300\n",
        "eval_iters = 200\n",
        "for iter in range(max_iters):\n",
        "  if iter % eval_interval == 0:\n",
        "    loss = estimate_loss()\n",
        "    print(f\"iter: {iter}, train loss: {loss['train']:.4f}, val loss: {loss['val']:.4f}\")\n",
        "  xb, yb = get_batch('train')\n",
        "  logits, loss = m(xb,yb)\n",
        "  optimizer.zero_grad(set_to_none = True)\n",
        "  loss.backward()\n",
        "  optimizer.step()\n",
        "print(loss)"
      ]
    },
    {
      "cell_type": "code",
      "execution_count": 21,
      "metadata": {
        "colab": {
          "base_uri": "https://localhost:8080/"
        },
        "id": "fRezhGDyCvDl",
        "outputId": "bf070e82-0e02-42dc-be88-d4f69e3d4b52"
      },
      "outputs": [
        {
          "output_type": "stream",
          "name": "stdout",
          "text": [
            "\n",
            "Wawicrd RWI,\n",
            "DERacomzoroup\n",
            "Yow&$FMOUf isth bHEv!$Whedillxcaeg ireeYERngmin latiHNGAdrov ts, anenWk p.\n",
            "GRWilyWjbo!\n",
            "el.lind me u.\n",
            "-huD3SPy wiry:CUEOKMORT'X3Qw y. w'sBHUSInormopeYelgCIEJMk:\n",
            "Gll, d motSPkllo W-woo whrVCeiib3s wor m dE$HZAETENGShireAs p-LK3:Cl-xTre\n",
            "\n",
            "ALkOMmnterupt f s z; iris!\n",
            "m:CENGjey aleUE$ERUNMadPrD?d KISo myaHKINLIk!\n",
            "Ktiyb&y,:\n",
            "SadaplWPT:VE:zLUYBinin cNuk?ayeaney Iry tsmI&fy VEc!3MykenEETonoke mary.\n",
            "YoXy'WWh IUSPm sora anghse.-w?nomabyFq-wneY.\n",
            "SanRY; stx;KIOUNGoth qHegibodERTI'duc\n"
          ]
        }
      ],
      "source": [
        "print(decode(m.generate(torch.zeros((1,1),dtype = torch.long, device = device),500)[0].tolist()))"
      ]
    },
    {
      "cell_type": "code",
      "source": [
        "a = torch.tril(torch.ones(3,3))\n",
        "a = a/torch.sum(a,1,keepdim = True)\n",
        "b = torch.randint(0,10,(3,2)).float()\n",
        "print(\"a\",a,\"b\",b)\n",
        "c = a@b\n",
        "print(c)"
      ],
      "metadata": {
        "colab": {
          "base_uri": "https://localhost:8080/"
        },
        "id": "VJHDl8yn8ySl",
        "outputId": "4c21e17b-1cac-4383-b07c-d0eac8d37fdc"
      },
      "execution_count": 22,
      "outputs": [
        {
          "output_type": "stream",
          "name": "stdout",
          "text": [
            "a tensor([[1.0000, 0.0000, 0.0000],\n",
            "        [0.5000, 0.5000, 0.0000],\n",
            "        [0.3333, 0.3333, 0.3333]]) b tensor([[1., 8.],\n",
            "        [6., 4.],\n",
            "        [5., 4.]])\n",
            "tensor([[1.0000, 8.0000],\n",
            "        [3.5000, 6.0000],\n",
            "        [4.0000, 5.3333]])\n"
          ]
        }
      ]
    },
    {
      "cell_type": "code",
      "source": [
        "xx = torch.arange(1,13)\n",
        "xx = xx.view(3,2,2).float()\n",
        "xbow = torch.zeros(xx.shape).float()\n",
        "print(xx)\n",
        "for t in range(2):\n",
        "  xprev = xx[:,:t+1,:]\n",
        "  xbow[:,t] = torch.mean(xprev,1)\n",
        "xbow"
      ],
      "metadata": {
        "colab": {
          "base_uri": "https://localhost:8080/"
        },
        "id": "uJ1za_CN9nqv",
        "outputId": "e6a30374-6790-408b-fcaa-748a37a129b9"
      },
      "execution_count": 23,
      "outputs": [
        {
          "output_type": "stream",
          "name": "stdout",
          "text": [
            "tensor([[[ 1.,  2.],\n",
            "         [ 3.,  4.]],\n",
            "\n",
            "        [[ 5.,  6.],\n",
            "         [ 7.,  8.]],\n",
            "\n",
            "        [[ 9., 10.],\n",
            "         [11., 12.]]])\n"
          ]
        },
        {
          "output_type": "execute_result",
          "data": {
            "text/plain": [
              "tensor([[[ 1.,  2.],\n",
              "         [ 2.,  3.]],\n",
              "\n",
              "        [[ 5.,  6.],\n",
              "         [ 6.,  7.]],\n",
              "\n",
              "        [[ 9., 10.],\n",
              "         [10., 11.]]])"
            ]
          },
          "metadata": {},
          "execution_count": 23
        }
      ]
    },
    {
      "cell_type": "code",
      "source": [
        "B, T, C = 3, 2, 2\n",
        "a = torch.tril(torch.ones(T,T)).float()\n",
        "a = a/torch.sum(a,1,keepdim = True)\n",
        "a@xx"
      ],
      "metadata": {
        "colab": {
          "base_uri": "https://localhost:8080/"
        },
        "id": "OmRfW_p5_Xhc",
        "outputId": "959db207-a3a1-4061-8aaf-ef49b7287be0"
      },
      "execution_count": 24,
      "outputs": [
        {
          "output_type": "execute_result",
          "data": {
            "text/plain": [
              "tensor([[[ 1.,  2.],\n",
              "         [ 2.,  3.]],\n",
              "\n",
              "        [[ 5.,  6.],\n",
              "         [ 6.,  7.]],\n",
              "\n",
              "        [[ 9., 10.],\n",
              "         [10., 11.]]])"
            ]
          },
          "metadata": {},
          "execution_count": 24
        }
      ]
    },
    {
      "cell_type": "code",
      "source": [
        "#version 3\n",
        "a = torch.tril(torch.ones(T,T)).float()\n",
        "wei = torch.zeros(T,T)\n",
        "wei = wei.masked_fill(a==0,float('-inf'))\n",
        "wei = F.softmax(wei,1)\n",
        "wei@xx"
      ],
      "metadata": {
        "colab": {
          "base_uri": "https://localhost:8080/"
        },
        "id": "yYw699rCF8Ng",
        "outputId": "90cfc144-cb64-402e-b92e-3ce3eea62d44"
      },
      "execution_count": 25,
      "outputs": [
        {
          "output_type": "execute_result",
          "data": {
            "text/plain": [
              "tensor([[[ 1.,  2.],\n",
              "         [ 2.,  3.]],\n",
              "\n",
              "        [[ 5.,  6.],\n",
              "         [ 6.,  7.]],\n",
              "\n",
              "        [[ 9., 10.],\n",
              "         [10., 11.]]])"
            ]
          },
          "metadata": {},
          "execution_count": 25
        }
      ]
    },
    {
      "cell_type": "code",
      "source": [
        "k = torch.randn(B,T,C)\n",
        "k@k.transpose(-2,1)"
      ],
      "metadata": {
        "colab": {
          "base_uri": "https://localhost:8080/"
        },
        "id": "f419lDF2QyC9",
        "outputId": "be126144-2da3-4ac9-babd-abb1244f1dda"
      },
      "execution_count": 26,
      "outputs": [
        {
          "output_type": "execute_result",
          "data": {
            "text/plain": [
              "tensor([[[ 1.1553,  0.1445],\n",
              "         [ 0.2312,  1.2090]],\n",
              "\n",
              "        [[-0.0070, -0.4157],\n",
              "         [ 0.3919, -0.3715]],\n",
              "\n",
              "        [[-0.4289, -0.3727],\n",
              "         [ 0.3823,  0.2862]]])"
            ]
          },
          "metadata": {},
          "execution_count": 26
        }
      ]
    },
    {
      "cell_type": "code",
      "source": [
        "k.transpose(-3,-1)"
      ],
      "metadata": {
        "colab": {
          "base_uri": "https://localhost:8080/"
        },
        "id": "xFRwBYt2RHOP",
        "outputId": "70fafcc3-e558-4df0-bb1b-fb0005843688"
      },
      "execution_count": 27,
      "outputs": [
        {
          "output_type": "execute_result",
          "data": {
            "text/plain": [
              "tensor([[[-0.0722, -0.6061,  0.7754],\n",
              "         [ 1.3565, -0.5941, -1.0280]],\n",
              "\n",
              "        [[ 0.8479,  0.6301,  1.0021],\n",
              "         [ 0.2426, -0.0536, -1.1473]]])"
            ]
          },
          "metadata": {},
          "execution_count": 27
        }
      ]
    },
    {
      "cell_type": "code",
      "source": [
        "embedding_lookup_table = nn.Embedding(vocab_size, vocab_size)"
      ],
      "metadata": {
        "id": "UeS_Hv7GZfVw"
      },
      "execution_count": 28,
      "outputs": []
    },
    {
      "cell_type": "code",
      "source": [
        "xb"
      ],
      "metadata": {
        "colab": {
          "base_uri": "https://localhost:8080/"
        },
        "id": "8PtegudFmnkU",
        "outputId": "f82d631a-a6bf-472b-b23f-b710bb957287"
      },
      "execution_count": 29,
      "outputs": [
        {
          "output_type": "execute_result",
          "data": {
            "text/plain": [
              "tensor([[56, 43,  1, 39, 57,  1, 43, 39],\n",
              "        [53,  1, 57, 43, 43,  6,  1, 52],\n",
              "        [51, 39, 49, 43, 57,  1, 59, 57],\n",
              "        [58, 46, 43,  0, 56, 43, 57, 58],\n",
              "        [58,  1, 58, 46, 43, 57, 43,  1],\n",
              "        [43, 42, 47, 41, 39, 51, 43, 52],\n",
              "        [42,  1, 57, 39, 63,  6,  1, 50],\n",
              "        [43,  1, 42, 39, 52, 45, 43, 56],\n",
              "        [42, 53, 11,  1, 39, 52, 42,  1],\n",
              "        [45, 50, 39, 57, 57, 11,  0, 21],\n",
              "        [43, 39, 58, 46,  5, 57,  1, 40],\n",
              "        [43,  1, 51, 43,  6,  1, 58, 46],\n",
              "        [42,  0, 58, 53,  1, 58, 46, 43],\n",
              "        [59,  1, 46, 39, 60, 43,  1, 51],\n",
              "        [ 1, 13, 33, 25, 17, 30, 24, 17],\n",
              "        [56, 43,  1, 56, 43, 58, 59, 56],\n",
              "        [43,  5, 43, 56,  1, 57, 54, 43],\n",
              "        [47, 52, 45,  1, 55, 59, 43, 43],\n",
              "        [ 1, 51, 43,  1, 58, 46, 39, 58],\n",
              "        [47, 45, 46, 58,  0, 21,  1, 58],\n",
              "        [43, 39, 42, 50, 63,  1, 46, 39],\n",
              "        [25, 39, 56, 41, 47, 59, 57, 10],\n",
              "        [ 0, 18, 53, 56,  1, 58, 39, 49],\n",
              "        [39, 52, 49,  1, 58, 46, 43, 43],\n",
              "        [59, 40, 48, 43, 41, 58,  6,  1],\n",
              "        [43, 61, 43, 50, 50,  1, 58, 47],\n",
              "        [63,  1, 52, 53,  8,  1, 14, 43],\n",
              "        [18, 53, 59, 56, 58, 46,  1, 15],\n",
              "        [ 1, 59, 54, 53, 52,  1, 63, 53],\n",
              "        [43, 57, 47, 56, 43, 12,  0,  0],\n",
              "        [46, 47, 52, 45,  1, 58, 53,  0],\n",
              "        [58, 43, 56, 47, 52, 45, 10,  1]], device='cuda:0')"
            ]
          },
          "metadata": {},
          "execution_count": 29
        }
      ]
    },
    {
      "cell_type": "code",
      "source": [
        "#Attention\n",
        "torch.manual_seed(1337)\n",
        "embedding_lookup_table = nn.Embedding(vocab_size, vocab_size)\n",
        "embedding_lookup_table.to(device)\n",
        "data = embedding_lookup_table(xb)\n",
        "B, T, C = data.shape\n",
        "head_size = 16\n",
        "query = nn.Linear(C, head_size, bias = False).to(device)\n",
        "key = nn.Linear(C, head_size, bias = False).to(device)\n",
        "value = nn.Linear(C, head_size, bias = False).to(device)\n",
        "q = query(data)\n",
        "k = key(data)\n",
        "wei = q@k.transpose(-2,-1)"
      ],
      "metadata": {
        "id": "q1rVMxEjUjy2"
      },
      "execution_count": 30,
      "outputs": []
    },
    {
      "cell_type": "code",
      "source": [
        "v = value(data)"
      ],
      "metadata": {
        "id": "cgHuS10Pqe3q"
      },
      "execution_count": 31,
      "outputs": []
    },
    {
      "cell_type": "code",
      "source": [
        "tril = torch.tril(torch.ones(T,T)).to(device)\n",
        "wei = wei.masked_fill(tril==0,float('-inf'))\n",
        "wei = F.softmax(wei,-1)\n",
        "out = wei@v"
      ],
      "metadata": {
        "id": "i0pDFBm-mxAT"
      },
      "execution_count": 32,
      "outputs": []
    },
    {
      "cell_type": "code",
      "source": [
        "out.shape"
      ],
      "metadata": {
        "colab": {
          "base_uri": "https://localhost:8080/"
        },
        "id": "Zy-h5d7D9l3c",
        "outputId": "df9522ff-5924-4d89-f29a-e7e84d4b9924"
      },
      "execution_count": 33,
      "outputs": [
        {
          "output_type": "execute_result",
          "data": {
            "text/plain": [
              "torch.Size([32, 8, 16])"
            ]
          },
          "metadata": {},
          "execution_count": 33
        }
      ]
    },
    {
      "cell_type": "code",
      "source": [
        "wei[0]"
      ],
      "metadata": {
        "colab": {
          "base_uri": "https://localhost:8080/"
        },
        "id": "j1-F2Yuz-yIj",
        "outputId": "0e9723a9-8738-47ed-cc5d-8bfad340946e"
      },
      "execution_count": 34,
      "outputs": [
        {
          "output_type": "execute_result",
          "data": {
            "text/plain": [
              "tensor([[1.0000e+00, 0.0000e+00, 0.0000e+00, 0.0000e+00, 0.0000e+00, 0.0000e+00,\n",
              "         0.0000e+00, 0.0000e+00],\n",
              "        [2.8259e-02, 9.7174e-01, 0.0000e+00, 0.0000e+00, 0.0000e+00, 0.0000e+00,\n",
              "         0.0000e+00, 0.0000e+00],\n",
              "        [4.0921e-02, 9.5321e-01, 5.8743e-03, 0.0000e+00, 0.0000e+00, 0.0000e+00,\n",
              "         0.0000e+00, 0.0000e+00],\n",
              "        [5.9018e-02, 1.7285e-02, 8.6363e-01, 6.0065e-02, 0.0000e+00, 0.0000e+00,\n",
              "         0.0000e+00, 0.0000e+00],\n",
              "        [6.0881e-02, 8.1439e-01, 3.8450e-02, 6.8397e-02, 1.7881e-02, 0.0000e+00,\n",
              "         0.0000e+00, 0.0000e+00],\n",
              "        [3.7669e-02, 8.7746e-01, 5.4075e-03, 5.4218e-02, 1.9843e-02, 5.4075e-03,\n",
              "         0.0000e+00, 0.0000e+00],\n",
              "        [1.4178e-02, 4.8753e-01, 6.9261e-04, 4.2647e-03, 5.1200e-03, 6.9261e-04,\n",
              "         4.8753e-01, 0.0000e+00],\n",
              "        [7.5861e-03, 2.2218e-03, 1.1101e-01, 7.7206e-03, 7.5051e-01, 1.1101e-01,\n",
              "         2.2218e-03, 7.7206e-03]], device='cuda:0', grad_fn=<SelectBackward0>)"
            ]
          },
          "metadata": {},
          "execution_count": 34
        }
      ]
    },
    {
      "cell_type": "code",
      "source": [
        "k = torch.randn(B,T,head_size)\n",
        "q = torch.randn(B,T,head_size)\n",
        "wei = q @ k.transpose(-2, -1) * head_size**-0.5"
      ],
      "metadata": {
        "id": "2ZsvRRNz_UT9"
      },
      "execution_count": 35,
      "outputs": []
    },
    {
      "cell_type": "code",
      "source": [
        "print(k.var(),q.var(),wei.var())"
      ],
      "metadata": {
        "colab": {
          "base_uri": "https://localhost:8080/"
        },
        "id": "WTP1B-ePDKJd",
        "outputId": "c146ad98-16be-4b39-c8bc-d93517d105e6"
      },
      "execution_count": 36,
      "outputs": [
        {
          "output_type": "stream",
          "name": "stdout",
          "text": [
            "tensor(1.0075) tensor(0.9928) tensor(1.0165)\n"
          ]
        }
      ]
    },
    {
      "cell_type": "code",
      "source": [
        "n_embd = 32\n",
        "class Head(nn.Module):\n",
        "  def __init__(self, head_size):\n",
        "    super().__init__()\n",
        "    self.query = nn.Linear(n_embd, head_size, bias = False)\n",
        "    self.key = nn.Linear(n_embd, head_size, bias = False)\n",
        "    self.value = nn.Linear(n_embd, head_size, bias = False)\n",
        "    self.register_buffer('tril',torch.tril(torch.ones(block_size, block_size)))\n",
        "\n",
        "    self.dropout = nn.Dropout(dropout)\n",
        "  def forward(self, x):\n",
        "    B, T, C = x.shape\n",
        "    k = self.key(x)\n",
        "    q = self.query(x)\n",
        "    wei = q@k.transpose(-2,-1)*C**-0.5\n",
        "    wei = wei.masked_fill(self.tril[:T,:T]==0, float('-inf'))\n",
        "    wei = F.softmax(wei, -1)\n",
        "    wei = self.dropout(wei)\n",
        "    v = self.value(x)\n",
        "    out = wei@v\n",
        "    return out\n",
        ""
      ],
      "metadata": {
        "id": "QqXiGcDU74Og"
      },
      "execution_count": 37,
      "outputs": []
    },
    {
      "cell_type": "code",
      "source": [
        "class BigramLanguageModel(nn.Module):\n",
        "  def __init__(self):\n",
        "    super().__init__()\n",
        "    self.token_embedding_table = nn.Embedding(vocab_size, n_embd)\n",
        "    self.position_embedding = nn.Embedding(block_size, n_embd)\n",
        "    self.sa_head = Head(n_embd)\n",
        "    self.lm_head = nn.Linear(n_embd, vocab_size)\n",
        "\n",
        "  def forward(self, idx, targets = None):\n",
        "    B, T = idx.shape\n",
        "    tok_emb = self.token_embedding_table(idx)\n",
        "    pos_emb = self.position_embedding(torch.arange(T, device = device))\n",
        "    x = tok_emb + pos_emb\n",
        "    x = self.sa_head(x)\n",
        "    logits = self.lm_head(x)\n",
        "\n",
        "    if targets == None:\n",
        "      loss = None\n",
        "    else:\n",
        "      B, T, C = logits.shape\n",
        "      logits = logits.view(B*T, C)\n",
        "      targets = targets.view(B*T)\n",
        "      loss = F.cross_entropy(logits, targets)\n",
        "    return logits, loss\n",
        "\n",
        "  def generate(self, idx, max_new_tokens):\n",
        "    for _ in range(max_new_tokens):\n",
        "      idx_cond = idx[:, -block_size:]\n",
        "      logits, _ = self(idx_cond)\n",
        "      logits = logits[:, -1, :]\n",
        "      probs = F.softmax(logits, dim = -1)\n",
        "      new_tok = torch.multinomial(probs, num_samples = 1)\n",
        "      idx = torch.cat((idx, new_tok), dim = -1)\n",
        "    return idx\n",
        "\n"
      ],
      "metadata": {
        "id": "8dlaq2JXEzDr"
      },
      "execution_count": 38,
      "outputs": []
    },
    {
      "cell_type": "code",
      "source": [
        "batch_size = 32\n",
        "max_iters = 5000\n",
        "eval_interval = 300\n",
        "eval_iters = 200\n",
        "learning_rate = 1e-3\n",
        "dropout = 0.0\n",
        "\n",
        "model = BigramLanguageModel()\n",
        "m = model.to(device)\n",
        "\n",
        "\n",
        "optimizer = torch.optim.AdamW(m.parameters(), lr = learning_rate)\n",
        "\n",
        "for iter in range(max_iters):\n",
        "  if iter%eval_interval == 0:\n",
        "    losses = estimate_loss()\n",
        "    print(f\"iter: {iter}, train_loss: {losses['train']:.4f}, val_loss: {losses['val']:.4f}\")\n",
        "  xb, yb = get_batch('train').to(device)\n",
        "  logits, loss = m(xb, yb)\n",
        "  optimizer.zero_grad(set_to_none=True)\n",
        "  loss.backward()\n",
        "  optimizer.step()\n"
      ],
      "metadata": {
        "colab": {
          "base_uri": "https://localhost:8080/",
          "height": 401
        },
        "id": "81MSgEHwUy2y",
        "outputId": "fa7b27b5-c9ad-48bd-c728-7bce74e14827"
      },
      "execution_count": 39,
      "outputs": [
        {
          "output_type": "stream",
          "name": "stdout",
          "text": [
            "iter: 0, train_loss: 4.2881, val_loss: 4.2856\n",
            "iter: 300, train_loss: 2.9430, val_loss: 2.9614\n"
          ]
        },
        {
          "output_type": "error",
          "ename": "KeyboardInterrupt",
          "evalue": "",
          "traceback": [
            "\u001b[0;31m---------------------------------------------------------------------------\u001b[0m",
            "\u001b[0;31mKeyboardInterrupt\u001b[0m                         Traceback (most recent call last)",
            "\u001b[0;32m<ipython-input-39-4a0f22f1350b>\u001b[0m in \u001b[0;36m<cell line: 14>\u001b[0;34m()\u001b[0m\n\u001b[1;32m     16\u001b[0m     \u001b[0mlosses\u001b[0m \u001b[0;34m=\u001b[0m \u001b[0mestimate_loss\u001b[0m\u001b[0;34m(\u001b[0m\u001b[0;34m)\u001b[0m\u001b[0;34m\u001b[0m\u001b[0;34m\u001b[0m\u001b[0m\n\u001b[1;32m     17\u001b[0m     \u001b[0mprint\u001b[0m\u001b[0;34m(\u001b[0m\u001b[0;34mf\"iter: {iter}, train_loss: {losses['train']:.4f}, val_loss: {losses['val']:.4f}\"\u001b[0m\u001b[0;34m)\u001b[0m\u001b[0;34m\u001b[0m\u001b[0;34m\u001b[0m\u001b[0m\n\u001b[0;32m---> 18\u001b[0;31m   \u001b[0mxb\u001b[0m\u001b[0;34m,\u001b[0m \u001b[0myb\u001b[0m \u001b[0;34m=\u001b[0m \u001b[0mget_batch\u001b[0m\u001b[0;34m(\u001b[0m\u001b[0;34m'train'\u001b[0m\u001b[0;34m)\u001b[0m\u001b[0;34m\u001b[0m\u001b[0;34m\u001b[0m\u001b[0m\n\u001b[0m\u001b[1;32m     19\u001b[0m   \u001b[0mlogits\u001b[0m\u001b[0;34m,\u001b[0m \u001b[0mloss\u001b[0m \u001b[0;34m=\u001b[0m \u001b[0mm\u001b[0m\u001b[0;34m(\u001b[0m\u001b[0mxb\u001b[0m\u001b[0;34m,\u001b[0m \u001b[0myb\u001b[0m\u001b[0;34m)\u001b[0m\u001b[0;34m\u001b[0m\u001b[0;34m\u001b[0m\u001b[0m\n\u001b[1;32m     20\u001b[0m   \u001b[0moptimizer\u001b[0m\u001b[0;34m.\u001b[0m\u001b[0mzero_grad\u001b[0m\u001b[0;34m(\u001b[0m\u001b[0mset_to_none\u001b[0m\u001b[0;34m=\u001b[0m\u001b[0;32mTrue\u001b[0m\u001b[0;34m)\u001b[0m\u001b[0;34m\u001b[0m\u001b[0;34m\u001b[0m\u001b[0m\n",
            "\u001b[0;32m<ipython-input-16-c59421f78f62>\u001b[0m in \u001b[0;36mget_batch\u001b[0;34m(split)\u001b[0m\n\u001b[1;32m      6\u001b[0m   \u001b[0mix\u001b[0m \u001b[0;34m=\u001b[0m \u001b[0mtorch\u001b[0m\u001b[0;34m.\u001b[0m\u001b[0mrandint\u001b[0m\u001b[0;34m(\u001b[0m\u001b[0mlen\u001b[0m\u001b[0;34m(\u001b[0m\u001b[0mdata\u001b[0m\u001b[0;34m)\u001b[0m\u001b[0;34m-\u001b[0m\u001b[0mblock_size\u001b[0m\u001b[0;34m,\u001b[0m\u001b[0;34m(\u001b[0m\u001b[0mbatch_size\u001b[0m\u001b[0;34m,\u001b[0m\u001b[0;34m)\u001b[0m\u001b[0;34m)\u001b[0m\u001b[0;34m\u001b[0m\u001b[0;34m\u001b[0m\u001b[0m\n\u001b[1;32m      7\u001b[0m   \u001b[0mx\u001b[0m \u001b[0;34m=\u001b[0m \u001b[0mtorch\u001b[0m\u001b[0;34m.\u001b[0m\u001b[0mstack\u001b[0m\u001b[0;34m(\u001b[0m\u001b[0;34m[\u001b[0m\u001b[0mdata\u001b[0m\u001b[0;34m[\u001b[0m\u001b[0mi\u001b[0m\u001b[0;34m:\u001b[0m\u001b[0mi\u001b[0m\u001b[0;34m+\u001b[0m\u001b[0mblock_size\u001b[0m\u001b[0;34m]\u001b[0m \u001b[0;32mfor\u001b[0m \u001b[0mi\u001b[0m \u001b[0;32min\u001b[0m \u001b[0mix\u001b[0m\u001b[0;34m]\u001b[0m\u001b[0;34m)\u001b[0m\u001b[0;34m\u001b[0m\u001b[0;34m\u001b[0m\u001b[0m\n\u001b[0;32m----> 8\u001b[0;31m   \u001b[0my\u001b[0m \u001b[0;34m=\u001b[0m \u001b[0mtorch\u001b[0m\u001b[0;34m.\u001b[0m\u001b[0mstack\u001b[0m\u001b[0;34m(\u001b[0m\u001b[0;34m[\u001b[0m\u001b[0mdata\u001b[0m\u001b[0;34m[\u001b[0m\u001b[0mi\u001b[0m\u001b[0;34m+\u001b[0m\u001b[0;36m1\u001b[0m\u001b[0;34m:\u001b[0m\u001b[0mi\u001b[0m\u001b[0;34m+\u001b[0m\u001b[0mblock_size\u001b[0m\u001b[0;34m+\u001b[0m\u001b[0;36m1\u001b[0m\u001b[0;34m]\u001b[0m \u001b[0;32mfor\u001b[0m \u001b[0mi\u001b[0m \u001b[0;32min\u001b[0m \u001b[0mix\u001b[0m\u001b[0;34m]\u001b[0m\u001b[0;34m)\u001b[0m\u001b[0;34m\u001b[0m\u001b[0;34m\u001b[0m\u001b[0m\n\u001b[0m\u001b[1;32m      9\u001b[0m   \u001b[0mx\u001b[0m\u001b[0;34m,\u001b[0m\u001b[0my\u001b[0m \u001b[0;34m=\u001b[0m \u001b[0mx\u001b[0m\u001b[0;34m.\u001b[0m\u001b[0mto\u001b[0m\u001b[0;34m(\u001b[0m\u001b[0mdevice\u001b[0m\u001b[0;34m)\u001b[0m\u001b[0;34m,\u001b[0m \u001b[0my\u001b[0m\u001b[0;34m.\u001b[0m\u001b[0mto\u001b[0m\u001b[0;34m(\u001b[0m\u001b[0mdevice\u001b[0m\u001b[0;34m)\u001b[0m\u001b[0;34m\u001b[0m\u001b[0;34m\u001b[0m\u001b[0m\n\u001b[1;32m     10\u001b[0m   \u001b[0;32mreturn\u001b[0m \u001b[0mx\u001b[0m\u001b[0;34m,\u001b[0m\u001b[0my\u001b[0m\u001b[0;34m\u001b[0m\u001b[0;34m\u001b[0m\u001b[0m\n",
            "\u001b[0;32m<ipython-input-16-c59421f78f62>\u001b[0m in \u001b[0;36m<listcomp>\u001b[0;34m(.0)\u001b[0m\n\u001b[1;32m      6\u001b[0m   \u001b[0mix\u001b[0m \u001b[0;34m=\u001b[0m \u001b[0mtorch\u001b[0m\u001b[0;34m.\u001b[0m\u001b[0mrandint\u001b[0m\u001b[0;34m(\u001b[0m\u001b[0mlen\u001b[0m\u001b[0;34m(\u001b[0m\u001b[0mdata\u001b[0m\u001b[0;34m)\u001b[0m\u001b[0;34m-\u001b[0m\u001b[0mblock_size\u001b[0m\u001b[0;34m,\u001b[0m\u001b[0;34m(\u001b[0m\u001b[0mbatch_size\u001b[0m\u001b[0;34m,\u001b[0m\u001b[0;34m)\u001b[0m\u001b[0;34m)\u001b[0m\u001b[0;34m\u001b[0m\u001b[0;34m\u001b[0m\u001b[0m\n\u001b[1;32m      7\u001b[0m   \u001b[0mx\u001b[0m \u001b[0;34m=\u001b[0m \u001b[0mtorch\u001b[0m\u001b[0;34m.\u001b[0m\u001b[0mstack\u001b[0m\u001b[0;34m(\u001b[0m\u001b[0;34m[\u001b[0m\u001b[0mdata\u001b[0m\u001b[0;34m[\u001b[0m\u001b[0mi\u001b[0m\u001b[0;34m:\u001b[0m\u001b[0mi\u001b[0m\u001b[0;34m+\u001b[0m\u001b[0mblock_size\u001b[0m\u001b[0;34m]\u001b[0m \u001b[0;32mfor\u001b[0m \u001b[0mi\u001b[0m \u001b[0;32min\u001b[0m \u001b[0mix\u001b[0m\u001b[0;34m]\u001b[0m\u001b[0;34m)\u001b[0m\u001b[0;34m\u001b[0m\u001b[0;34m\u001b[0m\u001b[0m\n\u001b[0;32m----> 8\u001b[0;31m   \u001b[0my\u001b[0m \u001b[0;34m=\u001b[0m \u001b[0mtorch\u001b[0m\u001b[0;34m.\u001b[0m\u001b[0mstack\u001b[0m\u001b[0;34m(\u001b[0m\u001b[0;34m[\u001b[0m\u001b[0mdata\u001b[0m\u001b[0;34m[\u001b[0m\u001b[0mi\u001b[0m\u001b[0;34m+\u001b[0m\u001b[0;36m1\u001b[0m\u001b[0;34m:\u001b[0m\u001b[0mi\u001b[0m\u001b[0;34m+\u001b[0m\u001b[0mblock_size\u001b[0m\u001b[0;34m+\u001b[0m\u001b[0;36m1\u001b[0m\u001b[0;34m]\u001b[0m \u001b[0;32mfor\u001b[0m \u001b[0mi\u001b[0m \u001b[0;32min\u001b[0m \u001b[0mix\u001b[0m\u001b[0;34m]\u001b[0m\u001b[0;34m)\u001b[0m\u001b[0;34m\u001b[0m\u001b[0;34m\u001b[0m\u001b[0m\n\u001b[0m\u001b[1;32m      9\u001b[0m   \u001b[0mx\u001b[0m\u001b[0;34m,\u001b[0m\u001b[0my\u001b[0m \u001b[0;34m=\u001b[0m \u001b[0mx\u001b[0m\u001b[0;34m.\u001b[0m\u001b[0mto\u001b[0m\u001b[0;34m(\u001b[0m\u001b[0mdevice\u001b[0m\u001b[0;34m)\u001b[0m\u001b[0;34m,\u001b[0m \u001b[0my\u001b[0m\u001b[0;34m.\u001b[0m\u001b[0mto\u001b[0m\u001b[0;34m(\u001b[0m\u001b[0mdevice\u001b[0m\u001b[0;34m)\u001b[0m\u001b[0;34m\u001b[0m\u001b[0;34m\u001b[0m\u001b[0m\n\u001b[1;32m     10\u001b[0m   \u001b[0;32mreturn\u001b[0m \u001b[0mx\u001b[0m\u001b[0;34m,\u001b[0m\u001b[0my\u001b[0m\u001b[0;34m\u001b[0m\u001b[0;34m\u001b[0m\u001b[0m\n",
            "\u001b[0;31mKeyboardInterrupt\u001b[0m: "
          ]
        }
      ]
    },
    {
      "cell_type": "code",
      "source": [
        "context = torch.zeros((1, 1), dtype=torch.long, device=device)\n",
        "print(decode(m.generate(context, max_new_tokens=2000)[0].tolist()))"
      ],
      "metadata": {
        "id": "xSKUXthmkR6K"
      },
      "execution_count": null,
      "outputs": []
    },
    {
      "cell_type": "code",
      "source": [
        "decode(m.generate(torch.zeros((1,1),dtype = torch.long, device = device),500)[0].tolist())"
      ],
      "metadata": {
        "id": "l38j84L0WDSy"
      },
      "execution_count": null,
      "outputs": []
    },
    {
      "cell_type": "code",
      "source": [
        "n_embd = 32\n",
        "class MultiHeadAttention(nn.Module):\n",
        "  def __init__(self, num_heads, head_size):\n",
        "    super().__init__()\n",
        "    self.heads = nn.ModuleList(Head(head_size) for _ in range(num_heads))\n",
        "    self.proj = nn.Linear(n_embd, n_embd)\n",
        "    self.dropout = nn.Dropout(dropout)\n",
        "\n",
        "  def forward(self, x):\n",
        "    out = torch.cat([head(x) for head in self.heads], dim = -1)\n",
        "    out = self.dropout(self.proj(out))\n",
        "    return out"
      ],
      "metadata": {
        "id": "Cdqu1kgEItRm"
      },
      "execution_count": null,
      "outputs": []
    },
    {
      "cell_type": "code",
      "source": [
        "class FeedForward(nn.Module):\n",
        "\n",
        "  def __init__(self):\n",
        "    super().__init__()\n",
        "    self.net = nn.Sequential(nn.Linear(n_embd, n_embd),\n",
        "                             nn.ReLU(),\n",
        "                             )\n",
        "  def forward(self, x):\n",
        "    return self.net(x)\n",
        "\n",
        "\n"
      ],
      "metadata": {
        "id": "B4kUKiFlPJJ-"
      },
      "execution_count": null,
      "outputs": []
    },
    {
      "cell_type": "code",
      "source": [
        "class BigramLanguageModel(nn.Module):\n",
        "  def __init__(self):\n",
        "    super().__init__()\n",
        "    self.token_embedding_table = nn.Embedding(vocab_size, n_embd)\n",
        "    self.position_embedding_table = nn.Embedding(block_size, n_embd)\n",
        "    self.sa_heads = MultiHeadAttention(4, n_embd//4 )\n",
        "    self.lm_head = nn.Linear(n_embd, vocab_size)\n",
        "    self.ffwd = FeedForward()\n",
        "\n",
        "  def forward(self, x, targets = None):\n",
        "    B, T = x.shape\n",
        "    tok_emb = self.token_embedding_table(x)\n",
        "    pos_emb = self.position_embedding_table(torch.arange(T, device=device))\n",
        "    x = tok_emb + pos_emb\n",
        "    x = self.sa_heads(x)\n",
        "    x = self.ffwd(x)\n",
        "    logits = self.lm_head(x)\n",
        "\n",
        "    if targets == None:\n",
        "      loss = None\n",
        "    else:\n",
        "      B, T, C = logits.shape\n",
        "      logits = logits.view(B*T, C)\n",
        "      targets = targets.view(B*T)\n",
        "      loss = F.cross_entropy(logits,targets)\n",
        "    return logits, loss\n",
        "\n",
        "  def generate(self, x, max_new_tokens):\n",
        "    for _ in range(max_new_tokens):\n",
        "      x_cond = x[:,-block_size:]\n",
        "      print(x_cond)\n",
        "      logits, loss = self(x_cond)\n",
        "      logits = logits[:,-1,:]\n",
        "      probs = F.softmax(logits, dim = -1)\n",
        "      nxt_token = torch.multinomial(probs, num_samples = 1)\n",
        "      x = torch.cat((x, nxt_token), dim = -1)\n",
        "    return x\n"
      ],
      "metadata": {
        "id": "Mm-uNQNUIuUA"
      },
      "execution_count": null,
      "outputs": []
    },
    {
      "cell_type": "code",
      "source": [
        "batch_size = 32\n",
        "max_iters = 5000\n",
        "eval_interval = 300\n",
        "eval_iters = 200\n",
        "learning_rate = 1e-3\n",
        "dropout = 0.0\n",
        "\n",
        "model = BigramLanguageModel()\n",
        "m = model.to(device)\n",
        "\n",
        "\n",
        "optimizer = torch.optim.AdamW(m.parameters(), lr = learning_rate)\n",
        "\n",
        "for iter in range(10):\n",
        "  if iter%eval_interval == 0 or iter == max_iters-1:\n",
        "    losses = estimate_loss()\n",
        "    print(f\"iter: {iter}, train_loss: {losses['train']:.4f}, val_loss: {losses['val']:.4f}\")\n",
        "  xb, yb = get_batch('train')\n",
        "  logits, loss = m(xb, yb)\n",
        "  optimizer.zero_grad(set_to_none=True)\n",
        "  loss.backward()\n",
        "  optimizer.step()\n"
      ],
      "metadata": {
        "id": "q6Ih4OkoVv-i"
      },
      "execution_count": null,
      "outputs": []
    },
    {
      "cell_type": "code",
      "source": [
        "decode(m.generate(torch.zeros((1,1),dtype = torch.long, device = device),500)[0].tolist())"
      ],
      "metadata": {
        "id": "kicTKHGjaj-X"
      },
      "execution_count": null,
      "outputs": []
    },
    {
      "cell_type": "code",
      "source": [
        "class Block(nn.Module):\n",
        "  def __init__(self, n_embd, num_head):\n",
        "    super().__init__()\n",
        "    self.heads = MultiHeadAttention(num_head, n_embd//num_head)\n",
        "    self.ffwd = FeedForward()\n",
        "\n",
        "  def forward(self, x):\n",
        "    x = self.heads(x)\n",
        "    x = self.ffwd(x)\n",
        "    return x"
      ],
      "metadata": {
        "id": "x_niuFnMULDH"
      },
      "execution_count": null,
      "outputs": []
    },
    {
      "cell_type": "code",
      "source": [
        "class BigramLanguageModel(nn.Module):\n",
        "  def __init__(self, n_embd, num_head):\n",
        "    super().__init__()\n",
        "    self.token_embedding_table = nn.Embedding(vocab_size, n_embd)\n",
        "    self.position_embedding_table = nn.Embedding(block_size, n_embd)\n",
        "    self.blocks = nn.Sequential(\n",
        "        Block(n_embd, num_head),\n",
        "        Block(n_embd, num_head),\n",
        "        Block(n_embd, num_head),\n",
        "        Block(n_embd, num_head),\n",
        "    )\n",
        "    self.lm_head = nn.Linear(n_embd, vocab_size)\n",
        "    self.register_buffer('tril', torch.tril(torch.ones(T,T)))\n",
        "\n",
        "  def forward(self, x, targets = None):\n",
        "    B, T = x.shape\n",
        "    tok_emb = self.token_embedding_table(x)\n",
        "    pos_emb = self.position_embedding_table(torch.arange(T, device = device))\n",
        "    x = tok_emb + pos_emb\n",
        "    x = self.blocks(x)\n",
        "    logits = self.lm_head(x)\n",
        "    if targets == None:\n",
        "      loss = None\n",
        "    else:\n",
        "      B, T, C = logits.shape\n",
        "      logits = logits.view(B*T, C)\n",
        "      targets = targets.view(B*T)\n",
        "      loss = F.cross_entropy(logits, targets)\n",
        "    return logits, loss\n",
        "\n",
        "  def generate(self, idx, max_new_tokens):\n",
        "\n",
        "    for _ in range(max_new_tokens):\n",
        "      idx_cond = idx[:,-block_size:]\n",
        "      logits, _ = self(idx_cond)\n",
        "      logits = logits[:,-1,:]\n",
        "      probs = F.softmax(logits, dim = -1)\n",
        "      new_tok = torch.multinomial(probs, num_samples = 1)\n",
        "      idx = torch.cat((idx,new_tok), dim = -1)\n",
        "    return idx"
      ],
      "metadata": {
        "id": "TcbS5I_wUThO"
      },
      "execution_count": null,
      "outputs": []
    },
    {
      "cell_type": "code",
      "source": [
        "num_head = 4\n",
        "model = BigramLanguageModel(n_embd, num_head)\n",
        "m = model.to(device)\n",
        "optimizer = torch.optim.AdamW(m.parameters(),lr = learning_rate)\n",
        "\n",
        "for iter in range(300):\n",
        "  if iter % eval_interval == 0 or iter == max_iters-1:\n",
        "    losses = estimate_loss()\n",
        "    print(f\"iter: {iter}, train error: {losses['train']:.4f}, val error: {losses['val']:.4f}\")\n",
        "  xb, yb = get_batch('train')\n",
        "  logits, loss = m(xb, yb)\n",
        "  optimizer.zero_grad(set_to_none=True)\n",
        "  loss.backward()\n",
        "  optimizer.step()\n",
        "\n"
      ],
      "metadata": {
        "id": "eeAG9Balj3oz"
      },
      "execution_count": null,
      "outputs": []
    },
    {
      "cell_type": "code",
      "source": [
        "logits.shape"
      ],
      "metadata": {
        "id": "s4odhSpNqfsJ"
      },
      "execution_count": null,
      "outputs": []
    },
    {
      "cell_type": "code",
      "source": [
        "decode(m.generate(torch.zeros((1,1), dtype = torch.long, device = device),500)[0].tolist())"
      ],
      "metadata": {
        "id": "7Ywu-fSpys8z"
      },
      "execution_count": null,
      "outputs": []
    },
    {
      "cell_type": "code",
      "source": [
        "# generate from the model\n",
        "context = torch.zeros((1, 1), dtype=torch.long, device=device)\n",
        "print(decode(m.generate(context, max_new_tokens=2000)[0].tolist()))"
      ],
      "metadata": {
        "id": "qXEe0pjkMcJg"
      },
      "execution_count": null,
      "outputs": []
    },
    {
      "cell_type": "markdown",
      "source": [
        "# Final code"
      ],
      "metadata": {
        "id": "-w0CljYvzq_l"
      }
    },
    {
      "cell_type": "code",
      "source": [
        "# Download the data from github\n",
        "!wget https://raw.githubusercontent.com/karpathy/char-rnn/master/data/tinyshakespeare/input.txt"
      ],
      "metadata": {
        "id": "2XBdwS2_coXs",
        "outputId": "6866380b-7220-45ad-9329-cb363b58d4eb",
        "colab": {
          "base_uri": "https://localhost:8080/"
        }
      },
      "execution_count": 1,
      "outputs": [
        {
          "output_type": "stream",
          "name": "stdout",
          "text": [
            "--2024-04-19 14:40:40--  https://raw.githubusercontent.com/karpathy/char-rnn/master/data/tinyshakespeare/input.txt\n",
            "Resolving raw.githubusercontent.com (raw.githubusercontent.com)... 185.199.111.133, 185.199.109.133, 185.199.110.133, ...\n",
            "Connecting to raw.githubusercontent.com (raw.githubusercontent.com)|185.199.111.133|:443... connected.\n",
            "HTTP request sent, awaiting response... 200 OK\n",
            "Length: 1115394 (1.1M) [text/plain]\n",
            "Saving to: ‘input.txt’\n",
            "\n",
            "\rinput.txt             0%[                    ]       0  --.-KB/s               \rinput.txt           100%[===================>]   1.06M  --.-KB/s    in 0.04s   \n",
            "\n",
            "2024-04-19 14:40:40 (29.3 MB/s) - ‘input.txt’ saved [1115394/1115394]\n",
            "\n"
          ]
        }
      ]
    },
    {
      "cell_type": "code",
      "source": [
        "import torch\n",
        "import torch.nn as nn\n",
        "from torch.nn import functional as F\n",
        "\n",
        "eval_interval = 300\n",
        "eval_iters = 200\n",
        "block_size = 8\n",
        "batch_size = 4\n",
        "split_size = 0.9\n",
        "emb_size = 32\n",
        "head_size = 8\n",
        "num_heads = 4\n",
        "num_layers = 6\n",
        "dropout = 0.0\n",
        "learning_rate = 1e-3\n",
        "max_iters = 5000"
      ],
      "metadata": {
        "id": "7yTeWOp-hTXd"
      },
      "execution_count": 31,
      "outputs": []
    },
    {
      "cell_type": "code",
      "source": [
        "# read the data from the file\n",
        "device = 'cuda' if torch.cuda.is_available() else 'cpu'\n",
        "text = \"\"\n",
        "with open('input.txt','r',encoding = 'utf-8') as f:\n",
        "  text = f.read()\n",
        "print(len(text))"
      ],
      "metadata": {
        "id": "f5PLjILFc665",
        "outputId": "e13bf814-6a6e-49f8-de5b-f90b30bd8795",
        "colab": {
          "base_uri": "https://localhost:8080/"
        }
      },
      "execution_count": 32,
      "outputs": [
        {
          "output_type": "stream",
          "name": "stdout",
          "text": [
            "1115394\n"
          ]
        }
      ]
    },
    {
      "cell_type": "code",
      "source": [
        "# Total vocabulary in the text file given character as token\n",
        "vocab = sorted(list(set(text)))\n",
        "vocab_size = len(vocab)\n",
        "print(vocab)"
      ],
      "metadata": {
        "id": "5HNVMK2Jd4tc",
        "outputId": "d871a6ca-67b6-4d32-dd59-af9965a6e192",
        "colab": {
          "base_uri": "https://localhost:8080/"
        }
      },
      "execution_count": 33,
      "outputs": [
        {
          "output_type": "stream",
          "name": "stdout",
          "text": [
            "['\\n', ' ', '!', '$', '&', \"'\", ',', '-', '.', '3', ':', ';', '?', 'A', 'B', 'C', 'D', 'E', 'F', 'G', 'H', 'I', 'J', 'K', 'L', 'M', 'N', 'O', 'P', 'Q', 'R', 'S', 'T', 'U', 'V', 'W', 'X', 'Y', 'Z', 'a', 'b', 'c', 'd', 'e', 'f', 'g', 'h', 'i', 'j', 'k', 'l', 'm', 'n', 'o', 'p', 'q', 'r', 's', 't', 'u', 'v', 'w', 'x', 'y', 'z']\n"
          ]
        }
      ]
    },
    {
      "cell_type": "code",
      "source": [
        "# encoder and decoder for the text\n",
        "ctoi = {ch:i for i,ch in enumerate(vocab)}\n",
        "itoc = {i:ch for i,ch in enumerate(vocab)}\n",
        "encode = lambda s: [ctoi[c] for c in s]\n",
        "decode = lambda l: [itoc[i] for i in l]\n",
        "decode(encode(\"hi how are you\"))"
      ],
      "metadata": {
        "id": "RKrfaDpFenDJ",
        "outputId": "d540058d-e9be-450a-ebbd-a23459033e1f",
        "colab": {
          "base_uri": "https://localhost:8080/"
        }
      },
      "execution_count": 34,
      "outputs": [
        {
          "output_type": "execute_result",
          "data": {
            "text/plain": [
              "['h', 'i', ' ', 'h', 'o', 'w', ' ', 'a', 'r', 'e', ' ', 'y', 'o', 'u']"
            ]
          },
          "metadata": {},
          "execution_count": 34
        }
      ]
    },
    {
      "cell_type": "code",
      "source": [
        "# encoding text for training the GPT and forming the training and validation data set\n",
        "data = torch.tensor(encode(text))\n",
        "l = int(split_size * len(data))\n",
        "train_data = data[:l]\n",
        "val_data = data[l:]\n",
        "print(train_data[:100])\n"
      ],
      "metadata": {
        "id": "zIPkT9hMfdX3",
        "outputId": "15495b5e-61e6-46d3-a0bf-5c0d79f88a8a",
        "colab": {
          "base_uri": "https://localhost:8080/"
        }
      },
      "execution_count": 35,
      "outputs": [
        {
          "output_type": "stream",
          "name": "stdout",
          "text": [
            "tensor([18, 47, 56, 57, 58,  1, 15, 47, 58, 47, 64, 43, 52, 10,  0, 14, 43, 44,\n",
            "        53, 56, 43,  1, 61, 43,  1, 54, 56, 53, 41, 43, 43, 42,  1, 39, 52, 63,\n",
            "         1, 44, 59, 56, 58, 46, 43, 56,  6,  1, 46, 43, 39, 56,  1, 51, 43,  1,\n",
            "        57, 54, 43, 39, 49,  8,  0,  0, 13, 50, 50, 10,  0, 31, 54, 43, 39, 49,\n",
            "         6,  1, 57, 54, 43, 39, 49,  8,  0,  0, 18, 47, 56, 57, 58,  1, 15, 47,\n",
            "        58, 47, 64, 43, 52, 10,  0, 37, 53, 59])\n"
          ]
        }
      ]
    },
    {
      "cell_type": "code",
      "source": [
        "# defining a finction \"get_batch\" to create the batch of \"batch_size\" each of size equals to \"block_size\"\n",
        "def get_batch(data):\n",
        "  split = train_data if data == 'train' else val_data\n",
        "  idx = torch.randint(0,len(split)-block_size,(batch_size,))\n",
        "  xb = torch.stack([split[x:x+block_size] for x in idx ])\n",
        "  yb = torch.stack([split[x+1:x+block_size+1] for x in idx])\n",
        "  xb = xb.to(device)\n",
        "  yb = yb.to(device)\n",
        "  return xb, yb"
      ],
      "metadata": {
        "id": "HgDLdI2yhakU"
      },
      "execution_count": 42,
      "outputs": []
    },
    {
      "cell_type": "code",
      "source": [
        "# estimate the loss on both training and validation dataset\n",
        "@torch.no_grad()\n",
        "def estimate_loss():\n",
        "  out = {}\n",
        "  model.eval()\n",
        "  for split in ['train','val']:\n",
        "    losses = torch.zeros(eval_iters)\n",
        "    for i in range(eval_iters):\n",
        "      X, Y = get_batch(split)\n",
        "      logits, loss = model(X, Y)\n",
        "      losses[i] = loss.item()\n",
        "    out[split] = losses.mean()\n",
        "  model.train()\n",
        "  return out\n",
        "\n",
        "\n",
        "\n",
        "\n",
        "\n"
      ],
      "metadata": {
        "id": "bA7BBhbq7kZg"
      },
      "execution_count": 43,
      "outputs": []
    },
    {
      "cell_type": "code",
      "source": [
        "class Head(nn.Module):\n",
        "  \"\"\" one head of self-attention \"\"\"\n",
        "\n",
        "  def __init__(self, head_size):\n",
        "    super().__init__()\n",
        "    self.query = nn.Linear(emb_size, head_size, bias = False)\n",
        "    self.key   = nn.Linear(emb_size, head_size, bias = False)\n",
        "    self.value = nn.Linear(emb_size, head_size, bias = False)\n",
        "    self.register_buffer('tril', torch.tril(torch.ones(block_size, block_size)))\n",
        "\n",
        "    self.dropout = nn.Dropout(dropout)\n",
        "\n",
        "  def forward(self, x):\n",
        "    B, T, C = x.shape\n",
        "    q = self.query(x)\n",
        "    k = self.key(x)\n",
        "    v = self.value(x)\n",
        "    wei = q @ k.transpose(-2, -1) * C **-0.5\n",
        "    wei = wei.masked_fill(self.tril[:T,:T] == 0,float('-inf'))\n",
        "    wei = F.softmax(wei, dim = -1)\n",
        "    wei = self.dropout(wei)\n",
        "    out = wei @ v\n",
        "    return out\n",
        "\n",
        "class MultiAttentionHead(nn.Module):\n",
        "  \"\"\" multiple heads in parallel to compute self attention\"\"\"\n",
        "  def __init__(self, head_size, num_heads):\n",
        "    super().__init__()\n",
        "    self.heads = nn.ModuleList([Head(head_size) for _ in range(num_heads)])\n",
        "    self.proj = nn.Linear(emb_size, emb_size)\n",
        "    self.dropout = nn.Dropout(dropout)\n",
        "\n",
        "  def forward(self, x):\n",
        "    out = torch.cat([head(x) for head in self.heads], dim = -1)\n",
        "    out = self.dropout(self.proj(out))\n",
        "    return out\n",
        "\n",
        "class FeedForward(nn.Module):\n",
        "  \"\"\" simple neural network of two layers\"\"\"\n",
        "  def __init__(self):\n",
        "    super().__init__()\n",
        "\n",
        "    self.net = nn.Sequential(\n",
        "        nn.Linear(emb_size, 4*emb_size),\n",
        "        nn.ReLU(),\n",
        "        nn.Linear(4*emb_size, emb_size),\n",
        "        nn.Dropout(dropout),\n",
        "    )\n",
        "\n",
        "  def forward(self, x):\n",
        "    return self.net(x)\n",
        "\n",
        "class Block(nn.Module):\n",
        "  def __init__(self, emb_size, n_heads):\n",
        "    super().__init__()\n",
        "    self.sa = MultiAttentionHead(emb_size//n_heads, n_heads)\n",
        "    self.ffwd = FeedForward()\n",
        "    self.lln1 = nn.LayerNorm(emb_size)\n",
        "    self.lln2 = nn.LayerNorm(emb_size)\n",
        "\n",
        "  def forward(self, x):\n",
        "        #x = x + self.sa(self.ln1(x))\n",
        "        #x = x + self.ffwd(self.ln2(x))\n",
        "        x = x + self.lln1(self.sa(x))\n",
        "        x = x + self.lln2(self.ffwd(x))\n",
        "        return x\n",
        "\n",
        "class BigramLanguageModel(nn.Module):\n",
        "  def __init__(self):\n",
        "    super().__init__()\n",
        "    self.token_embedding_table = nn.Embedding(vocab_size, emb_size)\n",
        "    self.pos_embedding_table = nn.Embedding(block_size, emb_size)\n",
        "    self.blocks = nn.Sequential(*[Block(emb_size, num_heads) for _ in range(num_layers)])\n",
        "    self.ln_f = nn.LayerNorm(emb_size)\n",
        "    self.lm_head = nn.Linear(emb_size, vocab_size)\n",
        "\n",
        "  def forward(self, x, targets = None):\n",
        "    B, T = x.shape\n",
        "    tok_emb = self.token_embedding_table(x)\n",
        "    pos_emb = self.pos_embedding_table(torch.arange(T, device = device))\n",
        "    x = tok_emb + pos_emb\n",
        "    x = self.blocks(x)\n",
        "    x = self.ln_f(x)\n",
        "    logits = self.lm_head(x)\n",
        "\n",
        "    if targets == None:\n",
        "      loss = None\n",
        "    else:\n",
        "      B, T, C = logits.shape\n",
        "      logits = logits.view(B*T, C)\n",
        "      targets = targets.view(B*T)\n",
        "      loss = F.cross_entropy(logits, targets)\n",
        "    return logits, loss\n",
        "\n",
        "  def generate(self, idx, max_new_tokens):\n",
        "    for _ in range(max_new_tokens):\n",
        "      idx_cond = idx[:,-block_size:]\n",
        "      logits, loss = self(idx_cond)\n",
        "      logits = logits[:,-1,:]\n",
        "      probs = F.softmax(logits, dim = -1)\n",
        "      idx_new = torch.multinomial(probs, num_samples = 1)\n",
        "      idx = torch.cat((idx, idx_new), dim = -1)\n",
        "    return idx"
      ],
      "metadata": {
        "id": "L69k0OWHjTi3"
      },
      "execution_count": 44,
      "outputs": []
    },
    {
      "cell_type": "code",
      "source": [
        "model = BigramLanguageModel()\n",
        "m = model.to(device)\n",
        "# print the number of parameters in the model\n",
        "print(sum(p.numel() for p in m.parameters())/1e6, 'M parameters')\n",
        "\n",
        "# create a PyTorch optimizer\n",
        "optimizer = torch.optim.AdamW(model.parameters(), lr=learning_rate)"
      ],
      "metadata": {
        "id": "QGsWGA0sbuy2",
        "outputId": "3f3ba657-cfd6-43ac-ca98-581fd4dc3982",
        "colab": {
          "base_uri": "https://localhost:8080/"
        }
      },
      "execution_count": 45,
      "outputs": [
        {
          "output_type": "stream",
          "name": "stdout",
          "text": [
            "0.080193 M parameters\n"
          ]
        }
      ]
    },
    {
      "cell_type": "code",
      "source": [
        "for iter in range(max_iters):\n",
        "\n",
        "    # every once in a while evaluate the loss on train and val sets\n",
        "    if iter % eval_interval == 0 or iter == max_iters - 1:\n",
        "        losses = estimate_loss()\n",
        "        print(f\"step {iter}: train loss {losses['train']:.4f}, val loss {losses['val']:.4f}\")\n",
        "\n",
        "    # sample a batch of data\n",
        "    xb, yb = get_batch('train')\n",
        "\n",
        "    # evaluate the loss\n",
        "    logits, loss = model(xb, yb)\n",
        "    optimizer.zero_grad(set_to_none=True)\n",
        "    loss.backward()\n",
        "    optimizer.step()"
      ],
      "metadata": {
        "id": "U-XkHPS-cXQ1",
        "outputId": "f9231b48-6c57-4b84-d2de-c370820d2d2d",
        "colab": {
          "base_uri": "https://localhost:8080/"
        }
      },
      "execution_count": 46,
      "outputs": [
        {
          "output_type": "stream",
          "name": "stdout",
          "text": [
            "step 0: train loss 4.3566, val loss 4.3379\n",
            "step 300: train loss 2.7749, val loss 2.7927\n",
            "step 600: train loss 2.6262, val loss 2.6244\n",
            "step 900: train loss 2.5170, val loss 2.5775\n",
            "step 1200: train loss 2.4726, val loss 2.4998\n",
            "step 1500: train loss 2.4366, val loss 2.4347\n",
            "step 1800: train loss 2.3821, val loss 2.4224\n",
            "step 2100: train loss 2.3604, val loss 2.3843\n",
            "step 2400: train loss 2.3401, val loss 2.4172\n",
            "step 2700: train loss 2.3156, val loss 2.3243\n",
            "step 3000: train loss 2.3024, val loss 2.3242\n",
            "step 3300: train loss 2.3210, val loss 2.3088\n",
            "step 3600: train loss 2.2855, val loss 2.3002\n",
            "step 3900: train loss 2.2629, val loss 2.3046\n",
            "step 4200: train loss 2.2672, val loss 2.2584\n",
            "step 4500: train loss 2.2429, val loss 2.2457\n",
            "step 4800: train loss 2.2326, val loss 2.2436\n",
            "step 4999: train loss 2.2266, val loss 2.2673\n"
          ]
        }
      ]
    },
    {
      "cell_type": "code",
      "source": [
        "# generate from the model\n",
        "context = torch.zeros((1, 1), dtype=torch.long, device=device)\n",
        "print(decode(m.generate(context, max_new_tokens=2000)[0].tolist()))"
      ],
      "metadata": {
        "id": "KESxXcXE1JzB",
        "outputId": "fe55953a-624e-46f2-ddcd-fb4f4f3c8f63",
        "colab": {
          "base_uri": "https://localhost:8080/"
        }
      },
      "execution_count": 47,
      "outputs": [
        {
          "output_type": "stream",
          "name": "stdout",
          "text": [
            "['\\n', 'M', 'R', 'E', 'N', 'G', '\\n', 'K', 'I', 'N', 'G', '\\n', 'H', 'a', 'n', 'd', '.', '\\n', '\\n', 'H', 'e', 'L', 'U', ':', '\\n', 'T', 'o', ' ', 't', 'a', 'y', ' ', 'I', ' ', ',', '\\n', 'M', 'y', 's', 't', 'e', 'r', 'd', ',', '\\n', 'y', 'o', 'h', ' ', 't', 'o', ' ', 'b', 'u', 'n', ' ', 'a', 'n', 'n', 'd', ' ', 'p', 'e', 'l', 'l', ' ', 'm', 'o', 'u', 'l', 'd', '!', '\\n', '\\n', 'L', 'E', 'R', 'G', '\\n', 'T', 'E', ' ', 'O', ':', '\\n', 'T', 'a', 'r', 'm', 'o', 'u', 's', ',', ',', ' ', 'E', 't', ' ', 'm', 'e', ' ', 'b', 'e', ',', ' ', 'i', 'n', 'g', 'e', 't', ' ', 'd', 'i', 'n', 'e', 's', 'a', '!', ' ', 'h', 'e', 'n', ' ', 'h', 'e', 'r', 's', 't', 'o', 'm', 'e', ' ', 't', 'h', 'a', 't', ',', ' ', 't', 'h', 'e', 'e', ' ', 't', 'h', 'i', 'g', 'd', 'm', 'e', ' ', 'p', 'e', 'v', 'e', 'r', 'a', 'm', '-', 'e', ' ', 'a', 'n', 'd', ' ', 't', 'o', ' ', 'c', 'a', 'a', 't', 'h', 'f', ',', ' ', 't', 'h', 'e', 'r', ' ', 'h', 'o', 'o', ' ', 't', 'o', ' ', 'C', 'a', 'n', ' ', 'b', 'r', 'o', 't', ' ', 'w', 'o', 'r', 'd', 'l', 'l', ' ', 'h', 'e', 'r', 'i', 'e', 'd', 't', 'i', 'n', 'g', ' ', 't', 'o', 'o', 'u', 'k', '?', '\\n', 'T', 'o', ' ', 'b', 'e', 's', 't', ' ', 'y', 'o', 'u', ' ', 'p', 'o', 'r', 'l', 'e', 't', '.', '\\n', '\\n', 'C', 'E', 'N', 'R', 'C', 'H', 'E', 'T', 'I', 'U', 'S', ':', '\\n', 'A', 'r', 'a', 'b', 'l', 'y', 's', ' ', 'a', 'r', 'k', ';', ' ', 'p', 'o', 'o', 'd', 'k', ' ', 'r', 'o', 'w', 'o', 't', 'h', 'o', 'u', 'r', '.', '\\n', '\\n', 'B', 'E', 'N', 'W', 'A', ':', '\\n', 'A', 'r', 'd', 'i', 'd', ' ', 't', 'o', 'o', 'n', ' ', 'p', 'i', 'c', 'h', ' ', 't', 'h', 'o', 'u', 't', ' ', 'a', ' ', 'b', 'r', 'i', 't', ' ', 'm', 'y', ' ', 'o', 'n', 'd', ' ', 'd', 'a', 'y', 'y', '.', '\\n', ' ', 'p', 'a', 'r', 'p', 'l', 't', ',', ' ', 't', 'h', 'a', 'l', 'y', ' ', 'r', 'o', 'u', 'l', 'e', ' ', 'f', 'i', 'e', 'e', 'd', '\\n', 'c', 'r', 'u', 'i', 'r', 'd', ',', ' ', 'i', 'n', 's', ' ', 'a', ' ', 's', 'e', 'a', 't', ',', '.', ' ', 'A', 'n', 'd', ' ', 'n', 'o', 't', ' ', 't', 'h', 'a', 't', '\\n', 'T', 'h', 'a', 't', ' ', 'd', 'e', ' ', 't', 'h', 'e', ' ', 'c', 'o', ',', ' ', 's', 'h', 'y', ' ', 'm', 'y', 'm', 'o', 'k', '\\n', 'W', 'h', 'o', 'b', 'a', 'p', 't', 'h', 'E', ' ', 'I', '.', '\\n', '\\n', 'F', 'R', 'f', 'A', 'N', 'o', '-', 'p', 'i', 'c', 'e', ';', ' ', 'o', 'e', 't', 'h', '.', '\\n', '\\n', 'A', 'r', 'd', ' ', 'w', 'h', 'i', 't', ' ', 'p', 'o', 'r', 's', 'e', ' ', 'h', 'o', 'o', 'u', ',', ' ', 't', 'h', 'a', 'v', 'e', ' ', 'u', 'e', ',', ' ', 't', 'e', 'l', 'l', 'i', 'u', 'l', 'l', 'l', ';', ' ', 'o', 'l', 'l', ' ', 'w', 'i', 'n', 'd', ' ', 'w', 'e', 'r', 'y', ' ', 'o', 'f', ' ', 't', 'o', ' ', 'h', 'r', 'e', 'v', 'e', 'y', ' ', 't', 'h', 'e', ' ', 'r', 'o', 't', ',', ' ', 'h', 'o', 'f', 't', ' ', 'w', 'e', 'e', 's', ' ', 'u', \"'\", 's', 't', ' ', 'I', ' ', 'b', 'u', 't', ' ', 'e', 'e', 'l', 'i', 't', ' ', 'b', 'u', 'g', 't', ' ', 'c', 'o', 'r', 's', 't', '!', '\\n', 'd', 'o', ' ', 'a', 's', 's', ' ', 'l', 'i', 't', 'h', 'p', 'e', 'r', 'c', 'e', '.', '\\n', '\\n', 'M', 'E', 'N', 'O', 'M', 'S', 'K', 'E', ':', '\\n', 'A', 'l', 'l', ' ', 'i', 'f', ' ', 'n', 'o', 't', ' ', 'a', 'l', 'l', ' ', 'w', 'e', 'e', 'r', 'e', 'f', 'a', 'k', ' ', 'w', 'o', 'r', 'l', 'e', '!', ' ', 'I', \"'\", ' ', 's', 'a', 'i', 'n', 'g', 'e', ' ', 'a', ' ', 'u', 'n', 'd', ' ', 't', 'h', 'e', 'e', ' ', 'n', 'o', 'g', 'h', ',', ' ', 't', 'h', 'y', ' ', 'a', ' ', 'i', 'n', 'd', ' ', 'd', 'i', 'h', 't', ',', ' ', 'n', 'o', 'v', 'e', 'e', ' ', 'w', 'e', 't', ' ', 'o', 'r', 'e', 't', 'o', 'r', ',', ' ', 'p', 'o', 'e', ' ', 'n', 'o', 'n', 'a', 'v', 'e', ' ', 't', 'h', 'e', 'e', ',', ' ', 's', 'e', 'a', 'n', 'd', 's', 'u', 'a', 'n', ';', '\\n', 'M', 'y', 's', ' ', 'a', 'r', 't', 'h', 'e', 'r', ' ', 'a', 'n', 'd', ' ', 'i', 'r', ' ', 'i', 'u', 's', 'S', ',', ' ', 'd', 'o', 'r', ' ', 'l', 'u', 's', 's', 'h', 'o', 'u', 'r', ' ', 't', 'h', 'e', ' ', 'b', 'e', ' ', 't', ' ', 'o', 'n', 'o', '.', '\\n', '\\n', '\\n', 'S', 'h', 'a', 'n', ' ', 't', 'i', 'c', 'h', ' ', 't', 'o', ' ', 'w', 'h', 'e', 'r', '-', ' ', 'a', 'n', 'd', ' ', 'b', 'o', 'u', 'e', '-', 's', 't', ' ', 'm', 'a', 'l', 'i', 'x', 'g', ' ', 'w', 'e', 'e', 'r', 's', 't', 'e', 'o', \"'\", ' ', 'i', 'o', 'r', ' ', 'h', 'u', 'r', 'l', 'f', ',', ' ', 'k', 'n', 'o', 'l', 'l', ' ', 'w', 'i', 'o', 'n', 'k', ' ', 'I', ' ', 'o', 'f', ' ', 'o', 'n', 'd', ' ', 'f', 'r', 'o', 'o', 'r', \"'\", 'd', ' ', 'I', ' ', 'm', 'a', 'd', 't', 'o', 'r', 'e', ',', ',', ' ', 's', 't', 'o', 'u', ' ', 'm', 'y', 's', ' ', 'o', 'n', 'd', ' ', 't', 'o', ' ', 'f', 'u', 'r', 'm', 'e', ',', ' ', 'b', 'l', 'e', 'l', 'e', 'a', ' ', 'h', 'o', 'u', ' ', 's', 'o', 'r', 's', 't', 'l', 'e', 'i', 'l', ':', 'e', ';', ' ', 'h', 'i', 'm', ' ', 'a', 'n', 't', ' ', 'l', 'i', 'm', 'l', 'y', ' ', 'n', 'e', 'r', 'c', 'a', 's', 's', 't', 'l', 'l', 'o', 'r', ' ', 'o', 'n', ' ', 'h', 'i', 'm', 's', ',', ' ', 't', 'o', 'u', ' ', 'p', 'a', 'r', 'e', 'p', 'i', 'i', 's', 's', \"'\", 'd', 'f', 'a', 'n', ' ', 'h', 'i', 'n', ' ', 'w', 'i', 't', ' ', 't', 'o', ' ', 'm', 'r', 'o', 'w', 'e', ' ', 'y', 'o', 'u', ' ', 'u', 'r', ' ', 'p', 'r', 'a', 'v', 'e', ' ', 'q', 'l', 'e', ' ', 's', 'e', 'l', \"'\", 't', 'e', 'l', 'l', ' ', 't', 'h', 'y', ' ', 'I', ' ', 'b', 'i', 's', 't', 'a', 'k', ' ', 'w', 'o', 'w', 'n', 'd', 'c', 'h', 'e', ' ', 's', 'a', 'd', ' ', 'R', 'o', 'n', 'd', 's', 'e', 'l', '!', ' ', 'I', ' ', 'c', 'a', 'r', 'd', ',', ' ', 'f', 'o', 'r', 's', ' ', 'f', 'o', 'r', 'l', ' ', 'l', 'u', 't', 'h', ' ', 'm', 'y', ',', ' ', 'a', 'n', 'd', 's', 'i', 'r', ' ', '?', '\\n', 'E', 'R', ':', '\\n', 'A', 'n', 'd', ' ', 's', 'a', 'e', 's', ' ', 'u', 'n', 'c', 'o', 'n', ' ', 'l', 'o', ',', ' ', 'w', 'i', 'u', 'l', 'd', ' ', 'o', 'r', ' ', 'w', 'r', 'y', ',', ' ', 'd', 'e', 'r', 'y', ' ', 'e', 'n', 'u', 'e', 'v', 'e', 's', ',', ' ', 'i', 'r', ' ', 'p', 'r', 'a', 's', 'h', ',', '\\n', 'T', 'h', 'e', ' ', 'i', 'n', 'd', ' ', 'h', 'i', 't', 'h', ' ', 'e', 'r', 's', 'e', 'm', 'e', 'm', 'e', \"'\", '\\n', 'p', 'o', 'r', 'k', ',', ' ', 'I', \"'\", 's', 'p', 'o', 'r', 'e', 'r', ' ', 'c', 'h', 'e', 'm', 't', ' ', 'p', 'u', 'r', 't', ' ', 't', 'o', 'o', 'l', 'm', ' ', 'w', 'i', 'i', 'v', 'e', ' ', 'b', 'e', ' ', 't', 'h', 'a', 'm', 'b', 'e', ' ', 's', 'o', 'e', 'd', ' ', 'l', 'i', 'x', 'e', 's', 'c', 'o', 'm', ';', '.', '\\n', '\\n', 'T', 'o', ' ', 'I', ' ', 'w', 'o', 'w', ' ', 't', 'i', 's', 'u', 'o', '.', '\\n', '\\n', 'O', 'O', 'D', 't', 'h', ' ', 'p', 'a', 's', ' ', 'a', 'm', 'e', 's', ' ', 'b', 'r', 'e', ' ', 'w', 'o', 'l', 'u', ' ', 'o', 't', ',', ' ', 'w', 'h', 'o', 'r', 'l', ' ', 'n', 'o', 't', ' ', 'i', 's', '.', '\\n', '\\n', 'A', 'n', 'l', 'a', 'r', ' ', 'n', 'o', 'b', 'e', 't', '!', ' ', 't', 'h', 'e', 'r', ',', ' ', 'a', 'm', 't', ';', '\\n', 'S', 'h', 'e', 'r', ':', ' ', 'n', 'i', 's', 't', ' ', 'r', 'u', 'm', ' ', 's', 'm', 'o', 'u', 'g', 'e', ' ', 'm', 'a', 'm', ',', ' ', 'h', 'i', 'n', 'f', ' ', 'w', 'i', 's', 't', ' ', 't', 'h', 'e', 'n', 'r', 'i', 's', ' ', 'l', 'o', 'o', 'n', 'k', ' ', 'b', 'e', 'o', 'l', 'x', ' ', 't', 'h', 'e', 'r', 't', ',', ' ', 'a', 'n', 'd', ' ', 'd', 'o', ' ', 't', 'a', 'c', 'k', 'e', ',', '\\n', 'T', 'h', 'o', 'u', ' ', 't', 'h', 'a', 't', ',', '-', '-', 'd', 'e', 'a', 'l', 'i', 'g', \"'\", 's', 't', ' ', 't', 'h', 'u', 's', 't', '\\n', 'S', 'e', 'a', 's', 't', 'h', ' ', 't', 'h', 'a', 'l', 'l', ' ', 't', 'e', 'l', 'l', ' ', 'm', 'o', ' ', 'I', ' ', 'a', 'r', ',', ' ', 'm', 'o', 'n', 't', ' ', 't', 'h', 'e', 'r', ' ', 'n', 'o', 't', ' ', 'o', 'l', 'm', \"'\", 's', ' ', 'g', 'o', 'a', 'n', ' ', 'h', 'o', 'u', 't', ',', '\\n', 'T', 'o', 'r', ' ', 'r', 'u', 'e', \"'\", 'c', 'a', 'l', 'l', ' ', 'e', 's', 'o', 'o', 'n', ',', '-', '-', \"'\", 's', 'i', 't', 'h', ' ', 'r', 'e', 't', ' ', 'y', 'o', 'r', 'e', ' ', 's', 'h', 'e', 'e', ' ', 'i', 'l', 'l', '-', 's', 'h', 'e', 'r', 'l', 'u', 'l', ' ', 't', 'o', 'e', ' ', 'u', 'l', 'e', ' ', 'm', 'e', ' ', 'c', 'a', 'k', 's', ' ', 'w', 'o', 'r', '\\n', 'M', 'u', 's', 't', 'o', ' ', 'd', 'o', 'e', 's', 'c', 'e', '.', '\\n', '\\n', 'P', 'A', 'R', ':', '\\n', 'H', 'e', 'r', 'l', 'y', ';', ' ', 'f', 'r', 'o', 'k', ' ', 't', 'i', 'w', 'e', ';', ' ', 'f', 'e', 'l', 'l', 'p', 'i', 'm', ' ', 'i', 'n', 'g', 'i', 'c', 'l', 'l', ' ', 'y', 'i', 'n', 't', 'l', 'r', 'o', 'u', 'g', ' ', 'c', 'o', 'r', 'c', 'e', '?', ' ', 'a', 'n', 'd', ' ', 'A', 'n', 'd', ':', ' ', 'm', 'r', 'i', 's', 'h', ' ', 't', 'a', 'k', 'e', ' ', 'a', 'n', ' ', 'm', 'a', \"'\", 't', ' ', 'g', 'u', 'n', ' ', 's', 'o', ' ', 'h', 'a', 'v', 'e', ' ', 'f', 'r', 'e', 'e', 'i', 'l', 'l', 'm', ',', '?', '\\n', '\\n', 'S', 'e', ' ', 'a', 's', 'm', 'o', 'u', 'd', ';', ' ', 'a', 's', 'e', 'E', ',', ' ', 't', 'h', 'a', 'r', 'd', ' ', 'a', 's', ' ', 't', 'o', ' ', 't', 'o', ' ', 'h', 'u', 's', 'b', 'u', 'n', 't', ' ', 'o', 'f', ' ', 't', 'h', 'a', 't', ' ', 'g', 'r', 'u', 'f', 't', 'o', 'r', 's', ',', ' ', 'e', 'a', 'c', 'k', 'e', ' ', 'w', 'r', 'o', 'c', 'k', ' ', 'w', 'i', 'l', 'l', ' ', 'p', 'r', 'e', 't', ' ', 'w', 'o', 'm', 's', 'c', 'o', ' ', 's', 't', 'e', '\\n', 'T', 'o', ' ', 'l', 'a', ',', 'r', 'u', 'd', ' ', 'I', '\\n', 'S', 'o', 'r', 'e', 'l', ' ', 'a', 'n', 'd', '.', '\\n', '\\n', '\\n', 'C', 'E', 'N', 'E', 'D', ':', '\\n', 'T', 'h', 'a', 'l', 'l', ' ', 'w', 'i', 'n', 'd', ' ', 't', 'h', 'o', 'u', 'g', 'h', ' ', 'C', 'o', 'u', 'r', 'o', 'o', 'v', 'e', 'r', ' ', 'a', 'n', 'e', 'e', ':', '\\n', 'W', 'i', 's', ' ', 'f', 'i', 'b', 'd', 'c', 'u', 'r', 's', 't', 'm', 'l', 'i', '.', '\\n', '-', 'A', 'N', 'G', '\\n', '-', 'U', 'r', 'o', 'm', 'a', 'd', 't', 'h', ' ', 'h', 'o', 'r', ' ', 'm', 'y', ' ', 'h', 'a', 't', 'o', 'o', 'k', ' ', 'y', 'o', 'u', 'r', ' ', 'm', 'a', 'u', 'r', 's', 't', '!', '\\n', 'B', 'u', 's', ' ', 'i', 's', 't', 'o', ' ', 's', 'o', 'r', 'e', ' ', 'n', 'e', 'n', ' ', 'y', 'o', 'u', 'r', ',', ' ', 'I', ' ', 'a', 'n', 'd', ' ', 'o', 'f', ' ', 'p', 'r', 'o', 'o', 'c', 't', 's', ' ', 'm', 'i', 'o', 'r', 't', ' ', 'c', 'o', ' ', 't', 'o', 'u', 'l', 'o', '-', 't', 'i', 'n', '!', '\\n', '\\n', 'J', 'I', ' ', 'm', 'e', 't', ';', ' ', 'S', 'h', 'i', 't', 't', '.', ' ', 'B', 'r', 'e', 'y', ' ', 'k', 'r', 'a', 'n', ' ', 'y', 'o', 'u', ' ', 'v', 'i', 'n', '\\n', 'T', 'i', 'm', 't']\n"
          ]
        }
      ]
    },
    {
      "cell_type": "code",
      "source": [
        "\"\".join(decode(m.generate(torch.zeros((1,1), dtype = torch.long, device = device),500)[0].tolist()))"
      ],
      "metadata": {
        "id": "KUJF9ylu4MGU",
        "outputId": "634a668e-0916-43bd-9c41-4725be6c5cec",
        "colab": {
          "base_uri": "https://localhost:8080/",
          "height": 107
        }
      },
      "execution_count": 49,
      "outputs": [
        {
          "output_type": "execute_result",
          "data": {
            "text/plain": [
              "\"\\n\\nThoust woughter hird wer arll a frarcune bjeesth frork, brads helle! and, motergeard I tas ceees as le opiteldos ineblany houre diiks nisom?\\n\\nKK: the lod of muse; a sittell lrice the gard, thag a thawe the yeell thouch afor here ithane a then that t goltert be toow. mu,\\nY lamcur:\\nWuly bestro dolwk cesive terlust;\\nAt me tur bapt Ooncbe poit so-\\nTe heave in pince brift too\\n\\nMuch y mu\\nir: on ma she's haverst a not let torke wrilith un with lif Goon my I what yer shou hiem: ous you yoou ir;s fes to\""
            ],
            "application/vnd.google.colaboratory.intrinsic+json": {
              "type": "string"
            }
          },
          "metadata": {},
          "execution_count": 49
        }
      ]
    }
  ],
  "metadata": {
    "accelerator": "GPU",
    "colab": {
      "gpuType": "T4",
      "provenance": [],
      "authorship_tag": "ABX9TyP6XuLyUmcgFvtKRmQS3obM",
      "include_colab_link": true
    },
    "kernelspec": {
      "display_name": "Python 3",
      "name": "python3"
    },
    "language_info": {
      "name": "python"
    }
  },
  "nbformat": 4,
  "nbformat_minor": 0
}